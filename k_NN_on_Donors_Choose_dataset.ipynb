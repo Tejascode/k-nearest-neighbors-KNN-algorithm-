{
  "nbformat": 4,
  "nbformat_minor": 0,
  "metadata": {
    "kernelspec": {
      "display_name": "Python 3",
      "language": "python",
      "name": "python3"
    },
    "language_info": {
      "codemirror_mode": {
        "name": "ipython",
        "version": 3
      },
      "file_extension": ".py",
      "mimetype": "text/x-python",
      "name": "python",
      "nbconvert_exporter": "python",
      "pygments_lexer": "ipython3",
      "version": "3.6.5"
    },
    "colab": {
      "name": "k-NN on Donors Choose dataset.ipynb",
      "provenance": [],
      "collapsed_sections": []
    }
  },
  "cells": [
    {
      "cell_type": "markdown",
      "metadata": {
        "id": "wAVNjBHz6RT3",
        "colab_type": "text"
      },
      "source": [
        "# DonorsChoose\n",
        "\n"
      ]
    },
    {
      "cell_type": "markdown",
      "metadata": {
        "id": "JtB8u6OHW6Do",
        "colab_type": "text"
      },
      "source": [
        "<p>\n",
        "DonorsChoose.org receives hundreds of thousands of project proposals each year for classroom projects in need of funding. Right now, a large number of volunteers is needed to manually screen each submission before it's approved to be posted on the DonorsChoose.org website.\n",
        "</p>\n",
        "<p>\n",
        "    Next year, DonorsChoose.org expects to receive close to 500,000 project proposals. As a result, there are three main problems they need to solve:\n",
        "<ul>\n",
        "<li>\n",
        "    How to scale current manual processes and resources to screen 500,000 projects so that they can be posted as quickly and as efficiently as possible</li>\n",
        "    <li>How to increase the consistency of project vetting across different volunteers to improve the experience for teachers</li>\n",
        "    <li>How to focus volunteer time on the applications that need the most assistance</li>\n",
        "    </ul>\n",
        "</p>    \n",
        "<p>\n",
        "The goal of the competition is to predict whether or not a DonorsChoose.org project proposal submitted by a teacher will be approved, using the text of project descriptions as well as additional metadata about the project, teacher, and school. DonorsChoose.org can then use this information to identify projects most likely to need further review before approval.\n",
        "</p>\n"
      ]
    },
    {
      "cell_type": "markdown",
      "metadata": {
        "id": "dHxV1mJrW_jc",
        "colab_type": "text"
      },
      "source": [
        "## About the DonorsChoose Data Set\n",
        "\n",
        "The `train.csv` data set provided by DonorsChoose contains the following features:\n",
        "\n",
        "Feature | Description \n",
        "----------|---------------\n",
        "**`project_id`** | A unique identifier for the proposed project. **Example:** `p036502`   \n",
        "**`project_title`**    | Title of the project. **Examples:**<br><ul><li><code>Art Will Make You Happy!</code></li><li><code>First Grade Fun</code></li></ul> \n",
        "**`project_grade_category`** | Grade level of students for which the project is targeted. One of the following enumerated values: <br/><ul><li><code>Grades PreK-2</code></li><li><code>Grades 3-5</code></li><li><code>Grades 6-8</code></li><li><code>Grades 9-12</code></li></ul>  \n",
        " **`project_subject_categories`** | One or more (comma-separated) subject categories for the project from the following enumerated list of values:  <br/><ul><li><code>Applied Learning</code></li><li><code>Care &amp; Hunger</code></li><li><code>Health &amp; Sports</code></li><li><code>History &amp; Civics</code></li><li><code>Literacy &amp; Language</code></li><li><code>Math &amp; Science</code></li><li><code>Music &amp; The Arts</code></li><li><code>Special Needs</code></li><li><code>Warmth</code></li></ul><br/> **Examples:** <br/><ul><li><code>Music &amp; The Arts</code></li><li><code>Literacy &amp; Language, Math &amp; Science</code></li>  \n",
        "  **`school_state`** | State where school is located ([Two-letter U.S. postal code](https://en.wikipedia.org/wiki/List_of_U.S._state_abbreviations#Postal_codes)). **Example:** `WY`\n",
        "**`project_subject_subcategories`** | One or more (comma-separated) subject subcategories for the project. **Examples:** <br/><ul><li><code>Literacy</code></li><li><code>Literature &amp; Writing, Social Sciences</code></li></ul> \n",
        "**`project_resource_summary`** | An explanation of the resources needed for the project. **Example:** <br/><ul><li><code>My students need hands on literacy materials to manage sensory needs!</code</li></ul> \n",
        "**`project_essay_1`**    | First application essay<sup>*</sup>  \n",
        "**`project_essay_2`**    | Second application essay<sup>*</sup> \n",
        "**`project_essay_3`**    | Third application essay<sup>*</sup> \n",
        "**`project_essay_4`**    | Fourth application essay<sup>*</sup> \n",
        "**`project_submitted_datetime`** | Datetime when project application was submitted. **Example:** `2016-04-28 12:43:56.245`   \n",
        "**`teacher_id`** | A unique identifier for the teacher of the proposed project. **Example:** `bdf8baa8fedef6bfeec7ae4ff1c15c56`  \n",
        "**`teacher_prefix`** | Teacher's title. One of the following enumerated values: <br/><ul><li><code>nan</code></li><li><code>Dr.</code></li><li><code>Mr.</code></li><li><code>Mrs.</code></li><li><code>Ms.</code></li><li><code>Teacher.</code></li></ul>  \n",
        "**`teacher_number_of_previously_posted_projects`** | Number of project applications previously submitted by the same teacher. **Example:** `2` \n",
        "\n",
        "<sup>*</sup> See the section <b>Notes on the Essay Data</b> for more details about these features.\n",
        "\n",
        "Additionally, the `resources.csv` data set provides more data about the resources required for each project. Each line in this file represents a resource required by a project:\n",
        "\n",
        "Feature | Description \n",
        "----------|---------------\n",
        "**`id`** | A `project_id` value from the `train.csv` file.  **Example:** `p036502`   \n",
        "**`description`** | Desciption of the resource. **Example:** `Tenor Saxophone Reeds, Box of 25`   \n",
        "**`quantity`** | Quantity of the resource required. **Example:** `3`   \n",
        "**`price`** | Price of the resource required. **Example:** `9.95`   \n",
        "\n",
        "**Note:** Many projects require multiple resources. The `id` value corresponds to a `project_id` in train.csv, so you use it as a key to retrieve all resources needed for a project:\n",
        "\n",
        "The data set contains the following label (the value you will attempt to predict):\n",
        "\n",
        "Label | Description\n",
        "----------|---------------\n",
        "`project_is_approved` | A binary flag indicating whether DonorsChoose approved the project. A value of `0` indicates the project was not approved, and a value of `1` indicates the project was approved.\n"
      ]
    },
    {
      "cell_type": "markdown",
      "metadata": {
        "id": "nvp5VHdNXDgE",
        "colab_type": "text"
      },
      "source": [
        "### Notes on the Essay Data\n",
        "\n",
        "<ul>\n",
        "Prior to May 17, 2016, the prompts for the essays were as follows:\n",
        "<li>__project_essay_1:__ \"Introduce us to your classroom\"</li>\n",
        "<li>__project_essay_2:__ \"Tell us more about your students\"</li>\n",
        "<li>__project_essay_3:__ \"Describe how your students will use the materials you're requesting\"</li>\n",
        "<li>__project_essay_3:__ \"Close by sharing why your project will make a difference\"</li>\n",
        "</ul>\n",
        "\n",
        "\n",
        "<ul>\n",
        "Starting on May 17, 2016, the number of essays was reduced from 4 to 2, and the prompts for the first 2 essays were changed to the following:<br>\n",
        "<li>__project_essay_1:__ \"Describe your students: What makes your students special? Specific details about their background, your neighborhood, and your school are all helpful.\"</li>\n",
        "<li>__project_essay_2:__ \"About your project: How will these materials make a difference in your students' learning and improve their school lives?\"</li>\n",
        "<br>For all projects with project_submitted_datetime of 2016-05-17 and later, the values of project_essay_3 and project_essay_4 will be NaN.\n",
        "</ul>\n",
        "\n"
      ]
    },
    {
      "cell_type": "code",
      "metadata": {
        "id": "gcG3nGB06RTx",
        "colab_type": "code",
        "colab": {}
      },
      "source": [
        "%matplotlib inline\n",
        "import warnings\n",
        "warnings.filterwarnings(\"ignore\")\n",
        "\n",
        "import sqlite3\n",
        "import pandas as pd\n",
        "import numpy as np\n",
        "import nltk\n",
        "import string\n",
        "import matplotlib.pyplot as plt\n",
        "import seaborn as sns\n",
        "from sklearn.feature_extraction.text import TfidfTransformer\n",
        "from sklearn.feature_extraction.text import TfidfVectorizer\n",
        "from sklearn.feature_extraction.text import CountVectorizer\n",
        "from sklearn.metrics import confusion_matrix\n",
        "from sklearn import metrics\n",
        "from sklearn.metrics import roc_curve, auc\n",
        "from nltk.stem.porter import PorterStemmer\n",
        "import re\n",
        "# Tutorial about Python regular expressions: https://pymotw.com/2/re/\n",
        "import string\n",
        "from nltk.corpus import stopwords\n",
        "from nltk.stem import PorterStemmer\n",
        "from nltk.stem.wordnet import WordNetLemmatizer\n",
        "from tqdm import tqdm\n",
        "import os\n",
        "# from plotly import plotly\n",
        "# import plotly.offline as offline\n",
        "# import plotly.graph_objs as go\n",
        "# offline.init_notebook_mode()\n",
        "from collections import Counter"
      ],
      "execution_count": 0,
      "outputs": []
    },
    {
      "cell_type": "markdown",
      "metadata": {
        "colab_type": "text",
        "id": "rf4-FTwwMeqO"
      },
      "source": [
        "### importing file into googel colab "
      ]
    },
    {
      "cell_type": "code",
      "metadata": {
        "id": "LK7N5najNFjc",
        "colab_type": "code",
        "outputId": "12333efa-dee2-4613-9d38-0fbc89a5c53a",
        "colab": {
          "base_uri": "https://localhost:8080/",
          "height": 104
        }
      },
      "source": [
        "#  resources data\n",
        "import gdown\n",
        "\n",
        "url = 'https://drive.google.com/uc?id=1OcMV5zjAJI7OvNxxN4Ant52BDF3jrZOZ'\n",
        "output = 'resources.csv'\n",
        "# https://drive.google.com/file/d/1OcMV5zjAJI7OvNxxN4Ant52BDF3jrZOZ/view?usp=sharing\n",
        "gdown.download(url, output, quiet=False)\n"
      ],
      "execution_count": 0,
      "outputs": [
        {
          "output_type": "stream",
          "text": [
            "Downloading...\n",
            "From: https://drive.google.com/uc?id=1OcMV5zjAJI7OvNxxN4Ant52BDF3jrZOZ\n",
            "To: /content/resources.csv\n",
            "127MB [00:01, 110MB/s] \n"
          ],
          "name": "stderr"
        },
        {
          "output_type": "execute_result",
          "data": {
            "text/plain": [
              "'resources.csv'"
            ]
          },
          "metadata": {
            "tags": []
          },
          "execution_count": 6
        }
      ]
    },
    {
      "cell_type": "code",
      "metadata": {
        "id": "G2BqYQh7TfMZ",
        "colab_type": "code",
        "outputId": "b6038861-78c0-4285-fa9a-82fb406f6558",
        "colab": {
          "base_uri": "https://localhost:8080/",
          "height": 104
        }
      },
      "source": [
        "# test data\n",
        "import gdown\n",
        "\n",
        "url = 'https://drive.google.com/uc?id=1JGtsNLea4Q2HZQIgBp3pRrOfRN80qIg0'\n",
        "# https://drive.google.com/file/d/1JGtsNLea4Q2HZQIgBp3pRrOfRN80qIg0/view?usp=sharing\n",
        "output = 'train_data.csv'\n",
        "gdown.download(url, output, quiet=False)"
      ],
      "execution_count": 0,
      "outputs": [
        {
          "output_type": "stream",
          "text": [
            "Downloading...\n",
            "From: https://drive.google.com/uc?id=1JGtsNLea4Q2HZQIgBp3pRrOfRN80qIg0\n",
            "To: /content/train_data.csv\n",
            "201MB [00:01, 163MB/s]\n"
          ],
          "name": "stderr"
        },
        {
          "output_type": "execute_result",
          "data": {
            "text/plain": [
              "'train_data.csv'"
            ]
          },
          "metadata": {
            "tags": []
          },
          "execution_count": 7
        }
      ]
    },
    {
      "cell_type": "code",
      "metadata": {
        "id": "2MLP7EkgUkXm",
        "colab_type": "code",
        "outputId": "62379950-f8e0-4167-8492-abde3816f71b",
        "colab": {
          "base_uri": "https://localhost:8080/",
          "height": 35
        }
      },
      "source": [
        "ls"
      ],
      "execution_count": 0,
      "outputs": [
        {
          "output_type": "stream",
          "text": [
            "resources.csv  \u001b[0m\u001b[01;34msample_data\u001b[0m/  train_data.csv\n"
          ],
          "name": "stdout"
        }
      ]
    },
    {
      "cell_type": "code",
      "metadata": {
        "id": "7Ei18g89irB9",
        "colab_type": "code",
        "colab": {}
      },
      "source": [
        "project_data =pd.read_csv(\"train_data.csv\")\n",
        "resource_data = pd.read_csv(\"resources.csv\")"
      ],
      "execution_count": 0,
      "outputs": []
    },
    {
      "cell_type": "code",
      "metadata": {
        "colab_type": "code",
        "id": "k28M9n9pMeo9",
        "outputId": "6d2cd6d7-e0f7-415a-c820-bbc5dcdc3167",
        "colab": {
          "base_uri": "https://localhost:8080/",
          "height": 156
        }
      },
      "source": [
        "print(\"The shape of the Train data \",project_data.shape)\n",
        "print(\"-\"*50)\n",
        "print(\"The number of attributes in Train data\",\"-\"*5,project_data.columns.values)"
      ],
      "execution_count": 0,
      "outputs": [
        {
          "output_type": "stream",
          "text": [
            "The shape of the Train data  (109248, 17)\n",
            "--------------------------------------------------\n",
            "The number of attributes in Train data ----- ['Unnamed: 0' 'id' 'teacher_id' 'teacher_prefix' 'school_state'\n",
            " 'project_submitted_datetime' 'project_grade_category'\n",
            " 'project_subject_categories' 'project_subject_subcategories'\n",
            " 'project_title' 'project_essay_1' 'project_essay_2' 'project_essay_3'\n",
            " 'project_essay_4' 'project_resource_summary'\n",
            " 'teacher_number_of_previously_posted_projects' 'project_is_approved']\n"
          ],
          "name": "stdout"
        }
      ]
    },
    {
      "cell_type": "code",
      "metadata": {
        "colab_type": "code",
        "id": "0OAU2D5gMeok",
        "colab": {}
      },
      "source": [
        "cols = [\"Date\" if x==\"project_submitted_datetime\" else x for x in list(project_data.columns)]\n",
        "project_data[\"Date\"] = pd.to_datetime(project_data[\"project_submitted_datetime\"])\n",
        "project_data.drop(\"project_submitted_datetime\",axis=1,inplace = True )\n",
        "project_data.sort_values(by=[\"Date\"],inplace=True)\n",
        "\n",
        "project_data = project_data[cols]\n",
        "project_data.head(2)"
      ],
      "execution_count": 0,
      "outputs": []
    },
    {
      "cell_type": "code",
      "metadata": {
        "colab_type": "code",
        "id": "AHVTGgbaMen7",
        "outputId": "4fc890c6-fd30-4d03-b4e1-00cfbacba8f8",
        "colab": {
          "base_uri": "https://localhost:8080/",
          "height": 145
        }
      },
      "source": [
        "print(\"Number of data points in train data\", resource_data.shape)\n",
        "print(resource_data.columns.values)\n",
        "resource_data.head(2)"
      ],
      "execution_count": 0,
      "outputs": [
        {
          "output_type": "stream",
          "text": [
            "Number of data points in train data (1541272, 4)\n",
            "['id' 'description' 'quantity' 'price']\n"
          ],
          "name": "stdout"
        },
        {
          "output_type": "execute_result",
          "data": {
            "text/html": [
              "<div>\n",
              "<style scoped>\n",
              "    .dataframe tbody tr th:only-of-type {\n",
              "        vertical-align: middle;\n",
              "    }\n",
              "\n",
              "    .dataframe tbody tr th {\n",
              "        vertical-align: top;\n",
              "    }\n",
              "\n",
              "    .dataframe thead th {\n",
              "        text-align: right;\n",
              "    }\n",
              "</style>\n",
              "<table border=\"1\" class=\"dataframe\">\n",
              "  <thead>\n",
              "    <tr style=\"text-align: right;\">\n",
              "      <th></th>\n",
              "      <th>id</th>\n",
              "      <th>description</th>\n",
              "      <th>quantity</th>\n",
              "      <th>price</th>\n",
              "    </tr>\n",
              "  </thead>\n",
              "  <tbody>\n",
              "    <tr>\n",
              "      <th>0</th>\n",
              "      <td>p233245</td>\n",
              "      <td>LC652 - Lakeshore Double-Space Mobile Drying Rack</td>\n",
              "      <td>1</td>\n",
              "      <td>149.00</td>\n",
              "    </tr>\n",
              "    <tr>\n",
              "      <th>1</th>\n",
              "      <td>p069063</td>\n",
              "      <td>Bouncy Bands for Desks (Blue support pipes)</td>\n",
              "      <td>3</td>\n",
              "      <td>14.95</td>\n",
              "    </tr>\n",
              "  </tbody>\n",
              "</table>\n",
              "</div>"
            ],
            "text/plain": [
              "        id                                        description  quantity   price\n",
              "0  p233245  LC652 - Lakeshore Double-Space Mobile Drying Rack         1  149.00\n",
              "1  p069063        Bouncy Bands for Desks (Blue support pipes)         3   14.95"
            ]
          },
          "metadata": {
            "tags": []
          },
          "execution_count": 12
        }
      ]
    },
    {
      "cell_type": "code",
      "metadata": {
        "id": "8ON72GFweXXz",
        "colab_type": "code",
        "colab": {}
      },
      "source": [
        "# we cannot remove rows where teacher prefix is not available therefore we are replacing 'nan' value with\n",
        "# 'null'(string)\n",
        "#https://stackoverflow.com/questions/42224700/attributeerror-float-object-has-no-attribute-split\n",
        "project_data['teacher_prefix'] = project_data['teacher_prefix'].fillna('null')"
      ],
      "execution_count": 0,
      "outputs": []
    },
    {
      "cell_type": "markdown",
      "metadata": {
        "id": "WD9j89mH6RT_",
        "colab_type": "text"
      },
      "source": [
        "## 1.2 preprocessing of project_subject_categories"
      ]
    },
    {
      "cell_type": "code",
      "metadata": {
        "id": "DStqSykW6RUA",
        "colab_type": "code",
        "colab": {}
      },
      "source": [
        "catogories = list(project_data['project_subject_categories'].values)\n",
        "# remove special characters from list of strings python: https://stackoverflow.com/a/47301924/4084039\n",
        "\n",
        "# https://www.geeksforgeeks.org/removing-stop-words-nltk-python/\n",
        "# https://stackoverflow.com/questions/23669024/how-to-strip-a-specific-word-from-a-string\n",
        "# https://stackoverflow.com/questions/8270092/remove-all-whitespace-in-a-string-in-python\n",
        "cat_list = []\n",
        "for i in catogories:\n",
        "    temp = \"\"\n",
        "    # consider we have text like this \"Math & Science, Warmth, Care & Hunger\"\n",
        "    for j in i.split(','): # it will split it in three parts [\"Math & Science\", \"Warmth\", \"Care & Hunger\"]\n",
        "        if 'The' in j.split(): # this will split each of the catogory based on space \"Math & Science\"=> \"Math\",\"&\",\\\n",
        "#             \"Science\"\n",
        "            j=j.replace('The','') # if we have the words \"The\" we are going to replace it with ''(i.e removing 'The')\n",
        "        j = j.replace(' ','') # we are placeing all the ' '(space) with ''(empty) ex:\"Math & Science\"=>\"Math&Science\"\n",
        "        temp+=j.strip()+\" \" #\" abc \".strip() will return \"abc\", remove the trailing spaces\n",
        "        temp = temp.replace('&','_') # we are replacing the & value into \n",
        "    cat_list.append(temp.strip().lower())\n",
        "    \n",
        "project_data['clean_categories'] = cat_list\n",
        "project_data.drop(['project_subject_categories'], axis=1, inplace=True)\n",
        "\n",
        "from collections import Counter\n",
        "my_counter = Counter()\n",
        "for word in project_data['clean_categories'].values:\n",
        "    my_counter.update(word.split())\n",
        "\n",
        "cat_dict = dict(my_counter)\n",
        "sorted_cat_dict = dict(sorted(cat_dict.items(), key=lambda kv: kv[1]))\n",
        "print(\"The Worlds in sorted_cat_dict\",sorted_cat_dict)"
      ],
      "execution_count": 0,
      "outputs": []
    },
    {
      "cell_type": "markdown",
      "metadata": {
        "id": "TTbeFlXI6RUB",
        "colab_type": "text"
      },
      "source": [
        "## 1.3 preprocessing of project_subject_subcategories"
      ]
    },
    {
      "cell_type": "code",
      "metadata": {
        "id": "rbGB-2UM6RUC",
        "colab_type": "code",
        "colab": {}
      },
      "source": [
        "catogories1 = list(project_data['project_subject_subcategories'].values)\n",
        "# remove special characters from list of strings python: https://stackoverflow.com/a/47301924/4084039\n",
        "\n",
        "# https://www.geeksforgeeks.org/removing-stop-words-nltk-python/\n",
        "# https://stackoverflow.com/questions/23669024/how-to-strip-a-specific-word-from-a-string\n",
        "# https://stackoverflow.com/questions/8270092/remove-all-whitespace-in-a-string-in-python\n",
        "cat_list1 = []\n",
        "for i in catogories1:\n",
        "    temp1 = \"\"\n",
        "    # consider we have text like this \"Math & Science, Warmth, Care & Hunger\"\n",
        "    for j in i.split(','): # it will split it in three parts [\"Math & Science\", \"Warmth\", \"Care & Hunger\"]\n",
        "        if 'The' in j.split(): # this will split each of the catogory based on space \"Math & Science\"=> \"Math\",\"&\",\\\n",
        "#             \"Science\"\n",
        "            j=j.replace('The','') # if we have the words \"The\" we are going to replace it with ''(i.e removing 'The')\n",
        "        j = j.replace(' ','') # we are placeing all the ' '(space) with ''(empty) ex:\"Math & Science\"=>\"Math&Science\"\n",
        "        temp1+=j.strip()+\" \" #\" abc \".strip() will return \"abc\", remove the trailing spaces\n",
        "        temp1 = temp1.replace('&','_') # we are replacing the & value into \n",
        "    cat_list1.append(temp1.strip().lower())\n",
        "    \n",
        "project_data['clean_sub_categories'] = cat_list1\n",
        "project_data.drop(['project_subject_subcategories'], axis=1, inplace=True)\n",
        "\n",
        "from collections import Counter\n",
        "my_counter1 = Counter()\n",
        "for word in project_data['clean_sub_categories'].values:\n",
        "    my_counter1.update(word.split())\n",
        "\n",
        "cat_dict1 = dict(my_counter1)\n",
        "sorted_cat_dict1 = dict(sorted(cat_dict1.items(), key=lambda kv: kv[1]))\n",
        "print(\"The Worlds in sorted_cat_dict1\",sorted_cat_dict1)"
      ],
      "execution_count": 0,
      "outputs": []
    },
    {
      "cell_type": "markdown",
      "metadata": {
        "id": "XT9w5LVT6RUE",
        "colab_type": "text"
      },
      "source": [
        "## 1.4 Text preprocessing of project essay "
      ]
    },
    {
      "cell_type": "code",
      "metadata": {
        "id": "SurQ0INR6RUE",
        "colab_type": "code",
        "colab": {}
      },
      "source": [
        "# merge two column text dataframe: \n",
        "project_data[\"essay\"] = project_data[\"project_essay_1\"].map(str) +\\\n",
        "                        project_data[\"project_essay_2\"].map(str) + \\\n",
        "                        project_data[\"project_essay_3\"].map(str) + \\\n",
        "                        project_data[\"project_essay_4\"].map(str)"
      ],
      "execution_count": 0,
      "outputs": []
    },
    {
      "cell_type": "code",
      "metadata": {
        "id": "JzJwmVaH6RUG",
        "colab_type": "code",
        "colab": {}
      },
      "source": [
        "# https://stackoverflow.com/a/47091490/4084039\n",
        "import re\n",
        "\n",
        "def decontracted(phrase):\n",
        "    # specific\n",
        "    phrase = re.sub(r\"won't\", \"will not\", phrase)\n",
        "    phrase = re.sub(r\"can\\'t\", \"can not\", phrase)\n",
        "\n",
        "    # general\n",
        "    phrase = re.sub(r\"n\\'t\", \" not\", phrase)\n",
        "    phrase = re.sub(r\"\\'re\", \" are\", phrase)\n",
        "    phrase = re.sub(r\"\\'s\", \" is\", phrase)\n",
        "    phrase = re.sub(r\"\\'d\", \" would\", phrase)\n",
        "    phrase = re.sub(r\"\\'ll\", \" will\", phrase)\n",
        "    phrase = re.sub(r\"\\'t\", \" not\", phrase)\n",
        "    phrase = re.sub(r\"\\'ve\", \" have\", phrase)\n",
        "    phrase = re.sub(r\"\\'m\", \" am\", phrase)\n",
        "    return phrase"
      ],
      "execution_count": 0,
      "outputs": []
    },
    {
      "cell_type": "code",
      "metadata": {
        "id": "iiixHZxt6RUI",
        "colab_type": "code",
        "colab": {}
      },
      "source": [
        "# https://gist.github.com/sebleier/554280\n",
        "# we are removing the words from the stop words list: 'no', 'nor', 'not'\n",
        "stopwords= ['i', 'me', 'my', 'myself', 'we', 'our', 'ours', 'ourselves', 'you', \"you're\", \"you've\",\\\n",
        "            \"you'll\", \"you'd\", 'your', 'yours', 'yourself', 'yourselves', 'he', 'him', 'his', 'himself', \\\n",
        "            'she', \"she's\", 'her', 'hers', 'herself', 'it', \"it's\", 'its', 'itself', 'they', 'them', 'their',\\\n",
        "            'theirs', 'themselves', 'what', 'which', 'who', 'whom', 'this', 'that', \"that'll\", 'these', 'those', \\\n",
        "            'am', 'is', 'are', 'was', 'were', 'be', 'been', 'being', 'have', 'has', 'had', 'having', 'do', 'does', \\\n",
        "            'did', 'doing', 'a', 'an', 'the', 'and', 'but', 'if', 'or', 'because', 'as', 'until', 'while', 'of', \\\n",
        "            'at', 'by', 'for', 'with', 'about', 'against', 'between', 'into', 'through', 'during', 'before', 'after',\\\n",
        "            'above', 'below', 'to', 'from', 'up', 'down', 'in', 'out', 'on', 'off', 'over', 'under', 'again', 'further',\\\n",
        "            'then', 'once', 'here', 'there', 'when', 'where', 'why', 'how', 'all', 'any', 'both', 'each', 'few', 'more',\\\n",
        "            'most', 'other', 'some', 'such', 'only', 'own', 'same', 'so', 'than', 'too', 'very', \\\n",
        "            's', 't', 'can', 'will', 'just', 'don', \"don't\", 'should', \"should've\", 'now', 'd', 'll', 'm', 'o', 're', \\\n",
        "            've', 'y', 'ain', 'aren', \"aren't\", 'couldn', \"couldn't\", 'didn', \"didn't\", 'doesn', \"doesn't\", 'hadn',\\\n",
        "            \"hadn't\", 'hasn', \"hasn't\", 'haven', \"haven't\", 'isn', \"isn't\", 'ma', 'mightn', \"mightn't\", 'mustn',\\\n",
        "            \"mustn't\", 'needn', \"needn't\", 'shan', \"shan't\", 'shouldn', \"shouldn't\", 'wasn', \"wasn't\", 'weren', \"weren't\", \\\n",
        "            'won', \"won't\", 'wouldn', \"wouldn't\"]"
      ],
      "execution_count": 0,
      "outputs": []
    },
    {
      "cell_type": "code",
      "metadata": {
        "id": "q3Wt0UAp6RUK",
        "colab_type": "code",
        "outputId": "e06788cb-29cf-4f14-bec4-dfe6181f5b48",
        "colab": {
          "base_uri": "https://localhost:8080/",
          "height": 35
        }
      },
      "source": [
        "# Combining all the above stundents \n",
        "from tqdm import tqdm\n",
        "preprocessed_essays = []\n",
        "# tqdm is for printing the status bar\n",
        "for sentance in tqdm(project_data['essay'].values):\n",
        "    sent = decontracted(sentance)\n",
        "    sent = sent.replace('\\\\r', ' ')\n",
        "    sent = sent.replace('\\\\\"', ' ')\n",
        "    sent = sent.replace('\\\\n', ' ')\n",
        "    sent = re.sub('[^A-Za-z0-9]+', ' ', sent)\n",
        "    # https://gist.github.com/sebleier/554280\n",
        "    sent = ' '.join(e for e in sent.split() if e.lower() not in stopwords)\n",
        "    preprocessed_essays.append(sent.lower().strip())"
      ],
      "execution_count": 0,
      "outputs": [
        {
          "output_type": "stream",
          "text": [
            "100%|██████████| 109248/109248 [01:02<00:00, 1735.10it/s]\n"
          ],
          "name": "stderr"
        }
      ]
    },
    {
      "cell_type": "code",
      "metadata": {
        "id": "yamUYVn26RUM",
        "colab_type": "code",
        "outputId": "6551b6de-da89-45a5-85f2-6db7f23803f0",
        "colab": {
          "base_uri": "https://localhost:8080/",
          "height": 55
        }
      },
      "source": [
        "preprocessed_essays[20000]"
      ],
      "execution_count": 0,
      "outputs": [
        {
          "output_type": "execute_result",
          "data": {
            "text/plain": [
              "'person person no matter small dr seuss teach smallest students biggest enthusiasm learning students learn many different ways using senses multiple intelligences use wide range techniques help students succeed students class come variety different backgrounds makes wonderful sharing experiences cultures including native americans school caring community successful learners seen collaborative student project based learning classroom kindergarteners class love work hands materials many different opportunities practice skill mastered social skills work cooperatively friends crucial aspect kindergarten curriculum montana perfect place learn agriculture nutrition students love role play pretend kitchen early childhood classroom several kids ask try cooking real food take idea create common core cooking lessons learn important math writing concepts cooking delicious healthy food snack time students grounded appreciation work went making food knowledge ingredients came well healthy bodies project would expand learning nutrition agricultural cooking recipes us peel apples make homemade applesauce make bread mix healthy plants classroom garden spring also create cookbooks printed shared families students gain math literature skills well life long enjoyment healthy cooking nannan'"
            ]
          },
          "metadata": {
            "tags": []
          },
          "execution_count": 20
        }
      ]
    },
    {
      "cell_type": "markdown",
      "metadata": {
        "id": "pc8Uf6-L6RUN",
        "colab_type": "text"
      },
      "source": [
        "## 1.5 Preprocessing of project_title"
      ]
    },
    {
      "cell_type": "code",
      "metadata": {
        "id": "l7iHkGoc6RUO",
        "colab_type": "code",
        "outputId": "3a00a8cd-3751-4aa8-9443-c6cc6ff0aaac",
        "colab": {
          "base_uri": "https://localhost:8080/",
          "height": 35
        }
      },
      "source": [
        "# Combining all the above statemennts \n",
        "from tqdm import tqdm\n",
        "preprocessed_titles = []\n",
        "# tqdm is for printing the status bar\n",
        "for sentence in tqdm(project_data['project_title'].values):\n",
        "    sent = decontracted(sentence)\n",
        "    sent = sent.replace('\\\\r', ' ')\n",
        "    sent = sent.replace('\\\\\"', ' ')\n",
        "    sent = sent.replace('\\\\n', ' ')\n",
        "    sent = re.sub('[^A-Za-z0-9]+', ' ', sent)\n",
        "    # https://gist.github.com/sebleier/554280\n",
        "    sent = ' '.join(e for e in sent.split() if e not in stopwords)\n",
        "    preprocessed_titles.append(sent.lower().strip())"
      ],
      "execution_count": 0,
      "outputs": [
        {
          "output_type": "stream",
          "text": [
            "100%|██████████| 109248/109248 [00:02<00:00, 38487.54it/s]\n"
          ],
          "name": "stderr"
        }
      ]
    },
    {
      "cell_type": "code",
      "metadata": {
        "id": "1OINt04e6RUQ",
        "colab_type": "code",
        "outputId": "a7445265-c22d-481a-de80-4118f45472d9",
        "colab": {
          "base_uri": "https://localhost:8080/",
          "height": 35
        }
      },
      "source": [
        "preprocessed_titles[1000]"
      ],
      "execution_count": 0,
      "outputs": [
        {
          "output_type": "execute_result",
          "data": {
            "text/plain": [
              "'empowering students through art learning about then now'"
            ]
          },
          "metadata": {
            "tags": []
          },
          "execution_count": 22
        }
      ]
    },
    {
      "cell_type": "code",
      "metadata": {
        "id": "taJCuBHp6RUT",
        "colab_type": "code",
        "colab": {}
      },
      "source": [
        "# here we are removing the unwanted coloumns from the data that has been processed .\n",
        "project_data[\"clean_titles\"] = preprocessed_titles\n",
        "project_data.drop([\"project_essay_1\"],axis=1,inplace=True)\n",
        "project_data.drop([\"project_essay_2\"],axis=1,inplace=True)\n",
        "project_data.drop([\"project_essay_3\"],axis=1,inplace=True)\n",
        "project_data.drop([\"project_essay_4\"],axis=1,inplace=True)\n",
        "project_data.drop([\"project_title\"],axis=1,inplace=True)"
      ],
      "execution_count": 0,
      "outputs": []
    },
    {
      "cell_type": "markdown",
      "metadata": {
        "id": "bxW0SyXC6RUV",
        "colab_type": "text"
      },
      "source": [
        "## 1.6 Merging the tow DataFrame (Resources.csv and Train.csv)"
      ]
    },
    {
      "cell_type": "code",
      "metadata": {
        "id": "1bDliNob6RUV",
        "colab_type": "code",
        "outputId": "53a9912d-1f7e-4a10-894f-29f1548eae67",
        "colab": {
          "base_uri": "https://localhost:8080/",
          "height": 104
        }
      },
      "source": [
        "project_data.columns"
      ],
      "execution_count": 0,
      "outputs": [
        {
          "output_type": "execute_result",
          "data": {
            "text/plain": [
              "Index(['Unnamed: 0', 'id', 'teacher_id', 'teacher_prefix', 'school_state',\n",
              "       'Date', 'project_grade_category', 'project_resource_summary',\n",
              "       'teacher_number_of_previously_posted_projects', 'project_is_approved',\n",
              "       'clean_categories', 'clean_sub_categories', 'essay', 'clean_titles'],\n",
              "      dtype='object')"
            ]
          },
          "metadata": {
            "tags": []
          },
          "execution_count": 24
        }
      ]
    },
    {
      "cell_type": "code",
      "metadata": {
        "id": "phC2KD8N6RUX",
        "colab_type": "code",
        "outputId": "5085912d-b788-4e0e-fc3b-47dfcbab922c",
        "colab": {
          "base_uri": "https://localhost:8080/",
          "height": 110
        }
      },
      "source": [
        "resource_data.head(2)"
      ],
      "execution_count": 0,
      "outputs": [
        {
          "output_type": "execute_result",
          "data": {
            "text/html": [
              "<div>\n",
              "<style scoped>\n",
              "    .dataframe tbody tr th:only-of-type {\n",
              "        vertical-align: middle;\n",
              "    }\n",
              "\n",
              "    .dataframe tbody tr th {\n",
              "        vertical-align: top;\n",
              "    }\n",
              "\n",
              "    .dataframe thead th {\n",
              "        text-align: right;\n",
              "    }\n",
              "</style>\n",
              "<table border=\"1\" class=\"dataframe\">\n",
              "  <thead>\n",
              "    <tr style=\"text-align: right;\">\n",
              "      <th></th>\n",
              "      <th>id</th>\n",
              "      <th>description</th>\n",
              "      <th>quantity</th>\n",
              "      <th>price</th>\n",
              "    </tr>\n",
              "  </thead>\n",
              "  <tbody>\n",
              "    <tr>\n",
              "      <th>0</th>\n",
              "      <td>p233245</td>\n",
              "      <td>LC652 - Lakeshore Double-Space Mobile Drying Rack</td>\n",
              "      <td>1</td>\n",
              "      <td>149.00</td>\n",
              "    </tr>\n",
              "    <tr>\n",
              "      <th>1</th>\n",
              "      <td>p069063</td>\n",
              "      <td>Bouncy Bands for Desks (Blue support pipes)</td>\n",
              "      <td>3</td>\n",
              "      <td>14.95</td>\n",
              "    </tr>\n",
              "  </tbody>\n",
              "</table>\n",
              "</div>"
            ],
            "text/plain": [
              "        id                                        description  quantity   price\n",
              "0  p233245  LC652 - Lakeshore Double-Space Mobile Drying Rack         1  149.00\n",
              "1  p069063        Bouncy Bands for Desks (Blue support pipes)         3   14.95"
            ]
          },
          "metadata": {
            "tags": []
          },
          "execution_count": 25
        }
      ]
    },
    {
      "cell_type": "code",
      "metadata": {
        "id": "U8PRzXio6RUZ",
        "colab_type": "code",
        "outputId": "8615288d-e133-42ac-dc52-233f11144b0f",
        "colab": {
          "base_uri": "https://localhost:8080/",
          "height": 110
        }
      },
      "source": [
        "price_data= resource_data.groupby(\"id\").agg({\"price\" : \"sum\" , \"quantity\" : \"sum\"}).reset_index()\n",
        "price_data.head(2)"
      ],
      "execution_count": 0,
      "outputs": [
        {
          "output_type": "execute_result",
          "data": {
            "text/html": [
              "<div>\n",
              "<style scoped>\n",
              "    .dataframe tbody tr th:only-of-type {\n",
              "        vertical-align: middle;\n",
              "    }\n",
              "\n",
              "    .dataframe tbody tr th {\n",
              "        vertical-align: top;\n",
              "    }\n",
              "\n",
              "    .dataframe thead th {\n",
              "        text-align: right;\n",
              "    }\n",
              "</style>\n",
              "<table border=\"1\" class=\"dataframe\">\n",
              "  <thead>\n",
              "    <tr style=\"text-align: right;\">\n",
              "      <th></th>\n",
              "      <th>id</th>\n",
              "      <th>price</th>\n",
              "      <th>quantity</th>\n",
              "    </tr>\n",
              "  </thead>\n",
              "  <tbody>\n",
              "    <tr>\n",
              "      <th>0</th>\n",
              "      <td>p000001</td>\n",
              "      <td>459.56</td>\n",
              "      <td>7</td>\n",
              "    </tr>\n",
              "    <tr>\n",
              "      <th>1</th>\n",
              "      <td>p000002</td>\n",
              "      <td>515.89</td>\n",
              "      <td>21</td>\n",
              "    </tr>\n",
              "  </tbody>\n",
              "</table>\n",
              "</div>"
            ],
            "text/plain": [
              "        id   price  quantity\n",
              "0  p000001  459.56         7\n",
              "1  p000002  515.89        21"
            ]
          },
          "metadata": {
            "tags": []
          },
          "execution_count": 26
        }
      ]
    },
    {
      "cell_type": "code",
      "metadata": {
        "id": "FOg8M5uD6RUb",
        "colab_type": "code",
        "outputId": "a13bafee-b0da-410e-fab2-dd8f6cbd0964",
        "colab": {
          "base_uri": "https://localhost:8080/",
          "height": 338
        }
      },
      "source": [
        "project_data = pd.merge(project_data,price_data,on=\"id\",how = \"left\")\n",
        "project_data.head(2)\n",
        "# project_data.drop([\"Unnamed: 0\"],axis=1,inplace=True)\n",
        "# project_data.drop([\"id\"],axis=1,inplace=True)\n",
        "# project_data.drop([\"teacher_id\"],axis=1,inplace=True)"
      ],
      "execution_count": 0,
      "outputs": [
        {
          "output_type": "execute_result",
          "data": {
            "text/html": [
              "<div>\n",
              "<style scoped>\n",
              "    .dataframe tbody tr th:only-of-type {\n",
              "        vertical-align: middle;\n",
              "    }\n",
              "\n",
              "    .dataframe tbody tr th {\n",
              "        vertical-align: top;\n",
              "    }\n",
              "\n",
              "    .dataframe thead th {\n",
              "        text-align: right;\n",
              "    }\n",
              "</style>\n",
              "<table border=\"1\" class=\"dataframe\">\n",
              "  <thead>\n",
              "    <tr style=\"text-align: right;\">\n",
              "      <th></th>\n",
              "      <th>Unnamed: 0</th>\n",
              "      <th>id</th>\n",
              "      <th>teacher_id</th>\n",
              "      <th>teacher_prefix</th>\n",
              "      <th>school_state</th>\n",
              "      <th>Date</th>\n",
              "      <th>project_grade_category</th>\n",
              "      <th>project_resource_summary</th>\n",
              "      <th>teacher_number_of_previously_posted_projects</th>\n",
              "      <th>project_is_approved</th>\n",
              "      <th>clean_categories</th>\n",
              "      <th>clean_sub_categories</th>\n",
              "      <th>essay</th>\n",
              "      <th>clean_titles</th>\n",
              "      <th>price</th>\n",
              "      <th>quantity</th>\n",
              "    </tr>\n",
              "  </thead>\n",
              "  <tbody>\n",
              "    <tr>\n",
              "      <th>0</th>\n",
              "      <td>8393</td>\n",
              "      <td>p205479</td>\n",
              "      <td>2bf07ba08945e5d8b2a3f269b2b3cfe5</td>\n",
              "      <td>Mrs.</td>\n",
              "      <td>CA</td>\n",
              "      <td>2016-04-27 00:27:36</td>\n",
              "      <td>Grades PreK-2</td>\n",
              "      <td>My students need STEM kits to learn critical s...</td>\n",
              "      <td>53</td>\n",
              "      <td>1</td>\n",
              "      <td>math_science</td>\n",
              "      <td>appliedsciences health_lifescience</td>\n",
              "      <td>I have been fortunate enough to use the Fairy ...</td>\n",
              "      <td>engineering steam primary classroom</td>\n",
              "      <td>725.05</td>\n",
              "      <td>4</td>\n",
              "    </tr>\n",
              "    <tr>\n",
              "      <th>1</th>\n",
              "      <td>37728</td>\n",
              "      <td>p043609</td>\n",
              "      <td>3f60494c61921b3b43ab61bdde2904df</td>\n",
              "      <td>Ms.</td>\n",
              "      <td>UT</td>\n",
              "      <td>2016-04-27 00:31:25</td>\n",
              "      <td>Grades 3-5</td>\n",
              "      <td>My students need Boogie Boards for quiet senso...</td>\n",
              "      <td>4</td>\n",
              "      <td>1</td>\n",
              "      <td>specialneeds</td>\n",
              "      <td>specialneeds</td>\n",
              "      <td>Imagine being 8-9 years old. You're in your th...</td>\n",
              "      <td>sensory tools focus</td>\n",
              "      <td>213.03</td>\n",
              "      <td>8</td>\n",
              "    </tr>\n",
              "  </tbody>\n",
              "</table>\n",
              "</div>"
            ],
            "text/plain": [
              "   Unnamed: 0       id  ...   price quantity\n",
              "0        8393  p205479  ...  725.05        4\n",
              "1       37728  p043609  ...  213.03        8\n",
              "\n",
              "[2 rows x 16 columns]"
            ]
          },
          "metadata": {
            "tags": []
          },
          "execution_count": 27
        }
      ]
    },
    {
      "cell_type": "markdown",
      "metadata": {
        "id": "ljGrYO-YIPma",
        "colab_type": "text"
      },
      "source": [
        "## 1.7 Preprocessing of school_state"
      ]
    },
    {
      "cell_type": "code",
      "metadata": {
        "id": "WToBxLB46RUj",
        "colab_type": "code",
        "colab": {}
      },
      "source": [
        "school_state = list(project_data['school_state'].values)\n",
        "# remove special characters from list of strings python: https://stackoverflow.com/a/47301924/4084039\n",
        "\n",
        "# https://www.geeksforgeeks.org/removing-stop-words-nltk-python/\n",
        "# https://stackoverflow.com/questions/23669024/how-to-strip-a-specific-word-from-a-string\n",
        "# https://stackoverflow.com/questions/8270092/remove-all-whitespace-in-a-string-in-python\n",
        "\n",
        "school_state_list = []\n",
        "for i in school_state:\n",
        "    temp2 = \"\"\n",
        "    # consider we have text like this \"Math & Science, Warmth, Care & Hunger\"\n",
        "    for j in i.split(','): # it will split it in three parts [\"Math & Science\", \"Warmth\", \"Care & Hunger\"]\n",
        "        if 'The' in j.split(): # this will split each of the catogory based on space \"Math & Science\"=>\"Math\",\"&\", \"Science\"\n",
        "            j=j.replace('The','') # if we have the words \"The\" we are going to replace it with ''(i.e removing 'The')\n",
        "        j = j.replace(' ','') # we are placeing all the ' '(space) with ''(empty) ex:\"Math & Science\"=>\"Math&Science\"\n",
        "        temp2 +=j.strip()+\" \"#\" abc \".strip() will return \"abc\", remove the trailing spaces\n",
        "        temp2 = temp2.replace('&','_')\n",
        "    school_state_list.append(temp2.strip().lower())\n",
        "\n",
        "# droping the school_state column \n",
        "project_data['School_state'] = school_state_list\n",
        "project_data.drop(['school_state'], axis=1, inplace=True)\n",
        "\n",
        "# count of all the words in corpus python: https://stackoverflow.com/a/22898595/4084039\n",
        "my_counter3 = Counter()\n",
        "for word in project_data['School_state'].values:\n",
        "    my_counter3.update(word.split())\n",
        "    \n",
        "school_state_dict = dict(my_counter3)\n",
        "sorted_school_state_dict = dict(sorted(school_state_dict.items(), key=lambda kv: kv[1]))\n",
        "print(\"The Values in sorted_school_state_dict : \", sorted_school_state_dict)\n",
        "\n"
      ],
      "execution_count": 0,
      "outputs": []
    },
    {
      "cell_type": "markdown",
      "metadata": {
        "id": "bvRSoreS6RUp",
        "colab_type": "text"
      },
      "source": [
        "## 2.1 Splitting data"
      ]
    },
    {
      "cell_type": "code",
      "metadata": {
        "id": "SmZnq5WQ6RUp",
        "colab_type": "code",
        "outputId": "7b989771-21ab-4fbf-b399-04c0d86042b8",
        "colab": {
          "base_uri": "https://localhost:8080/",
          "height": 121
        }
      },
      "source": [
        "project_data = project_data.head(50000)\n",
        "Y = project_data[\"project_is_approved\"].values\n",
        "X = project_data.drop([\"project_is_approved\"],axis = 1)\n",
        "print(X.columns)"
      ],
      "execution_count": 0,
      "outputs": [
        {
          "output_type": "stream",
          "text": [
            "Index(['Unnamed: 0', 'id', 'teacher_id', 'teacher_prefix', 'Date',\n",
            "       'project_grade_category', 'project_resource_summary',\n",
            "       'teacher_number_of_previously_posted_projects', 'clean_categories',\n",
            "       'clean_sub_categories', 'essay', 'clean_titles', 'price', 'quantity',\n",
            "       'School_state'],\n",
            "      dtype='object')\n"
          ],
          "name": "stdout"
        }
      ]
    },
    {
      "cell_type": "code",
      "metadata": {
        "id": "MKKvAxhK6RUs",
        "colab_type": "code",
        "colab": {}
      },
      "source": [
        "#Splitting the data into train and test data_set\n",
        "from sklearn.model_selection import train_test_split\n",
        "X_train, X_test, Y_train, Y_test = train_test_split(X, Y, test_size=0.33, stratify=Y)\n",
        "X_train, X_cv, Y_train, Y_cv = train_test_split(X_train, Y_train, test_size=0.33, stratify=Y_train)"
      ],
      "execution_count": 0,
      "outputs": []
    },
    {
      "cell_type": "markdown",
      "metadata": {
        "id": "KgN9vu7TFUqm",
        "colab_type": "text"
      },
      "source": [
        "## 2.2  Resampling data using the Randomover sampler for Imblearn.over sampling "
      ]
    },
    {
      "cell_type": "code",
      "metadata": {
        "id": "-1tlDpEh6RUu",
        "colab_type": "code",
        "outputId": "575d8519-956d-4edf-d0b9-cb3286c8e1df",
        "colab": {
          "base_uri": "https://localhost:8080/",
          "height": 52
        }
      },
      "source": [
        "from imblearn.over_sampling import RandomOverSampler\n",
        "from collections import Counter\n",
        "import warnings\n",
        "warnings.filterwarnings(\"ignore\")\n",
        "\n",
        "ros = RandomOverSampler(sampling_strategy='minority',random_state=42)\n",
        "x_train, y_train = ros.fit_resample(X_train, Y_train)\n",
        "print('Resampled dataset shape %s' % Counter(y_train))\n",
        "print(\"Capitial\" ,\"X\",\"represents the original train_data and lower case\" ,\"x\", \"represnts the ramdonly over-sampled data\")"
      ],
      "execution_count": 0,
      "outputs": [
        {
          "output_type": "stream",
          "text": [
            "Resampled dataset shape Counter({1: 18850, 0: 18850})\n",
            "Capitial X represents the original train_data and lower case x represnts the ramdonly over-sampled data\n"
          ],
          "name": "stdout"
        }
      ]
    },
    {
      "cell_type": "code",
      "metadata": {
        "id": "nSwKGsD8Ws1l",
        "colab_type": "code",
        "colab": {}
      },
      "source": [
        "# here we have to convert x into a dataframe \n",
        "x_train = pd.DataFrame(x_train,columns = X.columns)\n",
        "x_train.head(1)"
      ],
      "execution_count": 0,
      "outputs": []
    },
    {
      "cell_type": "code",
      "metadata": {
        "id": "W5GFVDc-GGs1",
        "colab_type": "code",
        "outputId": "ec88dcab-060c-4a45-aacb-513f0a2a6300",
        "colab": {
          "base_uri": "https://localhost:8080/",
          "height": 87
        }
      },
      "source": [
        "print(x_train.shape, y_train.shape)\n",
        "print(X_cv.shape, Y_cv.shape)\n",
        "print(X_test.shape, Y_test.shape)\n",
        "\n",
        "print(\"=\"*100)\n"
      ],
      "execution_count": 0,
      "outputs": [
        {
          "output_type": "stream",
          "text": [
            "(37700, 15) (37700,)\n",
            "(11055, 15) (11055,)\n",
            "(16500, 15) (16500,)\n",
            "====================================================================================================\n"
          ],
          "name": "stdout"
        }
      ]
    },
    {
      "cell_type": "markdown",
      "metadata": {
        "id": "-IsFs7bpF3GV",
        "colab_type": "text"
      },
      "source": [
        "## 2.3 Make Data Model Ready: Vectorizing data"
      ]
    },
    {
      "cell_type": "markdown",
      "metadata": {
        "id": "2cBU8ss0OHeH",
        "colab_type": "text"
      },
      "source": [
        "### Bag of Words is used for Vectorizing of Text data"
      ]
    },
    {
      "cell_type": "code",
      "metadata": {
        "id": "zJHPAXldF4m0",
        "colab_type": "code",
        "outputId": "e9921251-8c99-407c-9461-37df6ff2e776",
        "colab": {
          "base_uri": "https://localhost:8080/",
          "height": 104
        }
      },
      "source": [
        "from sklearn.feature_extraction.text import CountVectorizer\n",
        "vectorizer = CountVectorizer(min_df=10, max_features=2000)\n",
        "vectorizer.fit(x_train['essay'].values) # fit has to happen only on train data\n",
        "\n",
        "# we use the transform Text_data to vector , BOW CountVectorizer\n",
        "x_train_essay_bow = vectorizer.transform(x_train['essay'].values) # this the vectorization of the oversampled data we do it as we dont want a baised model \n",
        "X_cv_essay_bow = vectorizer.transform(X_cv['essay'].values)  # here we use the X_CV for vectorization( only x_train is oversampled)\n",
        "X_test_essay_bow = vectorizer.transform(X_test['essay'].values)\n",
        "\n",
        "print(\"=\"*100)\n",
        "print(\"After vectorizations of the text data the shape of the data is \")\n",
        "print(x_train_essay_bow.shape, y_train.shape)\n",
        "print(X_cv_essay_bow.shape, Y_cv.shape)\n",
        "print(X_test_essay_bow.shape, Y_test.shape)\n",
        "\n",
        "\n"
      ],
      "execution_count": 0,
      "outputs": [
        {
          "output_type": "stream",
          "text": [
            "====================================================================================================\n",
            "After vectorizations of the text data the shape of the data is \n",
            "(37700, 2000) (37700,)\n",
            "(11055, 2000) (11055,)\n",
            "(16500, 2000) (16500,)\n"
          ],
          "name": "stdout"
        }
      ]
    },
    {
      "cell_type": "code",
      "metadata": {
        "id": "KzMlir6IYNc0",
        "colab_type": "code",
        "outputId": "21a23f0f-b080-4faa-c4fb-b2367d5c84b7",
        "colab": {
          "base_uri": "https://localhost:8080/",
          "height": 104
        }
      },
      "source": [
        "from sklearn.feature_extraction.text import CountVectorizer\n",
        "vectorizer = CountVectorizer(min_df=10, max_features=2000)\n",
        "vectorizer.fit(x_train['clean_titles'].values) # fit has to happen only on train data\n",
        "\n",
        "# we use the fitted CountVectorizer to convert the text to vector\n",
        "x_train_titles_bow = vectorizer.transform(x_train['clean_titles'].values)\n",
        "X_cv_titles_bow = vectorizer.transform(X_cv['clean_titles'].values)\n",
        "X_test_titles_bow = vectorizer.transform(X_test['clean_titles'].values)\n",
        "\n",
        "print(\"After vectorizations of the clean_titles data the shape of the data is\")\n",
        "print(x_train_titles_bow.shape, y_train.shape)\n",
        "print(X_cv_titles_bow.shape, Y_cv.shape)\n",
        "print(X_test_titles_bow.shape, Y_test.shape)\n",
        "print(\"*\"*100)"
      ],
      "execution_count": 0,
      "outputs": [
        {
          "output_type": "stream",
          "text": [
            "After vectorizations of the clean_titles data the shape of the data is\n",
            "(37700, 1817) (37700,)\n",
            "(11055, 1817) (11055,)\n",
            "(16500, 1817) (16500,)\n",
            "****************************************************************************************************\n"
          ],
          "name": "stdout"
        }
      ]
    },
    {
      "cell_type": "code",
      "metadata": {
        "id": "opz814PcZiOT",
        "colab_type": "code",
        "outputId": "7f43aa06-eae3-4fec-f94b-688780f3d1ea",
        "colab": {
          "base_uri": "https://localhost:8080/",
          "height": 104
        }
      },
      "source": [
        "from sklearn.feature_extraction.text import CountVectorizer\n",
        "vectorizer = CountVectorizer(min_df=10, max_features=2000)\n",
        "vectorizer.fit(x_train['project_resource_summary']) # fit has to happen only on train data\n",
        "\n",
        "# we use the fitted CountVectorizer to convert the text to vector\n",
        "x_train_summary_bow = vectorizer.transform(x_train['project_resource_summary'])\n",
        "X_cv_summary_bow = vectorizer.transform(X_cv['project_resource_summary'])\n",
        "X_test_summary_bow = vectorizer.transform(X_test['project_resource_summary'])\n",
        "\n",
        "print(\"After vectorizations of the project_resource_summary data the shape of the data is\")\n",
        "print(x_train_summary_bow.shape, y_train.shape)\n",
        "print(X_cv_summary_bow.shape, Y_cv.shape)\n",
        "print(X_test_summary_bow.shape, Y_test.shape)\n",
        "print(\"*\"*100)"
      ],
      "execution_count": 0,
      "outputs": [
        {
          "output_type": "stream",
          "text": [
            "After vectorizations of the project_resource_summary data the shape of the data is\n",
            "(37700, 2000) (37700,)\n",
            "(11055, 2000) (11055,)\n",
            "(16500, 2000) (16500,)\n",
            "****************************************************************************************************\n"
          ],
          "name": "stdout"
        }
      ]
    },
    {
      "cell_type": "markdown",
      "metadata": {
        "id": "YlieJPuAeoiw",
        "colab_type": "text"
      },
      "source": [
        "## 2.4  One-hot-encoding of the Catogorical Features "
      ]
    },
    {
      "cell_type": "code",
      "metadata": {
        "id": "R16bf-1Caf-M",
        "colab_type": "code",
        "outputId": "b5d218b8-57f5-4686-bafc-70dad2a150c3",
        "colab": {
          "base_uri": "https://localhost:8080/",
          "height": 104
        }
      },
      "source": [
        "vectorizer = CountVectorizer()\n",
        "vectorizer.fit(x_train['clean_sub_categories']) # fit has to happen only on train data\n",
        "\n",
        "\n",
        "# we use the fitted CountVectorizer to convert the text to vector\n",
        "x_train_clean_subcat_ohe = vectorizer.transform(x_train['clean_sub_categories'])\n",
        "X_cv_clean_subcat_ohe = vectorizer.transform(X_cv['clean_sub_categories'])\n",
        "X_test_clean_subcat_ohe = vectorizer.transform(X_test['clean_sub_categories'])\n",
        "\n",
        "print(\"After vectorizations of the clean_sub_categories , One-hot-encoding shape of the data is\")\n",
        "print(x_train_clean_subcat_ohe.shape, y_train.shape)\n",
        "print(X_cv_clean_subcat_ohe.shape, Y_cv.shape)\n",
        "print(X_test_clean_subcat_ohe.shape, Y_test.shape)\n",
        "# print(vectorizer.get_feature_names())\n",
        "print(\"*\"*100)"
      ],
      "execution_count": 0,
      "outputs": [
        {
          "output_type": "stream",
          "text": [
            "After vectorizations of the clean_sub_categories , One-hot-encoding shape of the data is\n",
            "(37700, 30) (37700,)\n",
            "(11055, 30) (11055,)\n",
            "(16500, 30) (16500,)\n",
            "****************************************************************************************************\n"
          ],
          "name": "stdout"
        }
      ]
    },
    {
      "cell_type": "code",
      "metadata": {
        "id": "NB5F2elUck5h",
        "colab_type": "code",
        "outputId": "de91fdd8-ac36-4d39-8c34-b98c6ad15ba9",
        "colab": {
          "base_uri": "https://localhost:8080/",
          "height": 121
        }
      },
      "source": [
        "vectorizer = CountVectorizer()\n",
        "vectorizer.fit(x_train['clean_categories']) # fit has to happen only on train data\n",
        "\n",
        "\n",
        "# we use the fitted CountVectorizer to convert the text to vector\n",
        "x_train_clean_categories_ohe = vectorizer.transform(x_train['clean_categories'])\n",
        "X_cv_clean_categories_ohe = vectorizer.transform(X_cv['clean_categories'])\n",
        "X_test_clean_categories_ohe = vectorizer.transform(X_test['clean_categories'])\n",
        "\n",
        "print(\"After vectorizations of the clean_categories, One-hot-encoding shape of the data is\")\n",
        "print(x_train_clean_categories_ohe.shape, y_train.shape)\n",
        "print(X_cv_clean_categories_ohe.shape, Y_cv.shape)\n",
        "print(X_test_clean_categories_ohe.shape, Y_test.shape)\n",
        "print(vectorizer.get_feature_names())\n",
        "print(\"*\"*100)"
      ],
      "execution_count": 0,
      "outputs": [
        {
          "output_type": "stream",
          "text": [
            "After vectorizations of the clean_categories, One-hot-encoding shape of the data is\n",
            "(37700, 9) (37700,)\n",
            "(11055, 9) (11055,)\n",
            "(16500, 9) (16500,)\n",
            "['appliedlearning', 'care_hunger', 'health_sports', 'history_civics', 'literacy_language', 'math_science', 'music_arts', 'specialneeds', 'warmth']\n",
            "****************************************************************************************************\n"
          ],
          "name": "stdout"
        }
      ]
    },
    {
      "cell_type": "code",
      "metadata": {
        "id": "Sn60TSVnkqrX",
        "colab_type": "code",
        "outputId": "be4423cc-09ae-4308-f5e7-3edb0d8951ac",
        "colab": {
          "base_uri": "https://localhost:8080/",
          "height": 121
        }
      },
      "source": [
        "vectorizer = CountVectorizer()\n",
        "vectorizer.fit(x_train['teacher_prefix'].values.astype('U')) # fit has to happen only on train data\n",
        "\n",
        "# we use the fitted CountVectorizer to convert the text to vector\n",
        "x_train_teacher_ohe = vectorizer.transform(x_train['teacher_prefix'].values.astype('U'))\n",
        "X_cv_teacher_ohe = vectorizer.transform(X_cv['teacher_prefix'].values.astype('U'))\n",
        "X_test_teacher_ohe = vectorizer.transform(X_test['teacher_prefix'].values.astype('U'))\n",
        "\n",
        "print(\"After vectorizations of the teacher_prefix , One-hot-encoding shape of the data is\")\n",
        "print(x_train_teacher_ohe.shape, y_train.shape)\n",
        "print(X_cv_teacher_ohe.shape, Y_cv.shape)\n",
        "print(X_test_teacher_ohe.shape, Y_test.shape)\n",
        "print(vectorizer.get_feature_names())\n",
        "print(\"*\"*100)\n"
      ],
      "execution_count": 0,
      "outputs": [
        {
          "output_type": "stream",
          "text": [
            "After vectorizations of the teacher_prefix , One-hot-encoding shape of the data is\n",
            "(37700, 6) (37700,)\n",
            "(11055, 6) (11055,)\n",
            "(16500, 6) (16500,)\n",
            "['dr', 'mr', 'mrs', 'ms', 'null', 'teacher']\n",
            "****************************************************************************************************\n"
          ],
          "name": "stdout"
        }
      ]
    },
    {
      "cell_type": "code",
      "metadata": {
        "id": "qZdSoLtOpZmV",
        "colab_type": "code",
        "outputId": "8a5bd96f-5cbd-454b-cf23-6a524a209954",
        "colab": {
          "base_uri": "https://localhost:8080/",
          "height": 104
        }
      },
      "source": [
        "vectorizer = CountVectorizer()\n",
        "vectorizer.fit(x_train['School_state'].values) # fit has to happen only on train data\n",
        "\n",
        "# we use the fitted CountVectorizer to convert the text to vector\n",
        "x_train_state_ohe = vectorizer.transform(x_train['School_state'].values)\n",
        "X_cv_state_ohe = vectorizer.transform(X_cv['School_state'].values)\n",
        "X_test_state_ohe = vectorizer.transform(X_test['School_state'].values)\n",
        "\n",
        "print(\"After vectorizations of the School_state , One-hot-encoding shape of the data is\")\n",
        "print(x_train_state_ohe.shape, y_train.shape)\n",
        "print(X_cv_state_ohe.shape, Y_cv.shape)\n",
        "print(X_test_state_ohe.shape, Y_test.shape)\n",
        "# print(vectorizer.get_feature_names())\n",
        "print(\"=\"*100)"
      ],
      "execution_count": 0,
      "outputs": [
        {
          "output_type": "stream",
          "text": [
            "After vectorizations of the School_state , One-hot-encoding shape of the data is\n",
            "(37700, 51) (37700,)\n",
            "(11055, 51) (11055,)\n",
            "(16500, 51) (16500,)\n",
            "====================================================================================================\n"
          ],
          "name": "stdout"
        }
      ]
    },
    {
      "cell_type": "code",
      "metadata": {
        "id": "BiLztk7WqtwH",
        "colab_type": "code",
        "outputId": "5e9257b0-9cf0-4661-b269-bbcd551a29cb",
        "colab": {
          "base_uri": "https://localhost:8080/",
          "height": 35
        }
      },
      "source": [
        "# #This step is to intialize a vectorizer with the vocabulary created form the project_grade_category values \n",
        "from collections import Counter\n",
        "my_counter5 = Counter()\n",
        "for word in X_train['project_grade_category'].values:\n",
        "  if \"Grades\" in word:\n",
        "    word = word.replace(\"Grades\",\"\")\n",
        "  my_counter5.update(word.split())  \n",
        "# dict sort by value python: https://stackoverflow.com/a/613218/4084039\n",
        "project_grade_category_dict = dict(my_counter5)\n",
        "sorted_project_grade_category_dict = dict(sorted(project_grade_category_dict.items(), key=lambda kv: kv[1]))\n",
        "print(sorted_project_grade_category_dict)"
      ],
      "execution_count": 0,
      "outputs": [
        {
          "output_type": "stream",
          "text": [
            "{'9-12': 2137, '6-8': 3407, '3-5': 7595, 'PreK-2': 9306}\n"
          ],
          "name": "stdout"
        }
      ]
    },
    {
      "cell_type": "code",
      "metadata": {
        "id": "rS50jG8JCHF0",
        "colab_type": "code",
        "outputId": "16eb570a-a493-4eb1-ec60-50a62d808531",
        "colab": {
          "base_uri": "https://localhost:8080/",
          "height": 121
        }
      },
      "source": [
        "vectorizer = CountVectorizer(vocabulary=list(sorted_project_grade_category_dict.keys()), lowercase=False, binary=True)\n",
        "vectorizer.fit(x_train['project_grade_category'].values) # fit has to happen only on train data\n",
        "\n",
        "# we use the fitted CountVectorizer to convert the text to vector\n",
        "x_train_grade_ohe = vectorizer.transform(x_train['project_grade_category'].values)\n",
        "X_cv_grade_ohe = vectorizer.transform(X_cv['project_grade_category'].values)\n",
        "X_test_grade_ohe = vectorizer.transform(X_test['project_grade_category'].values)\n",
        "\n",
        "print(\"After vectorizations of the project_grade_category , One-hot-encoding shape of the data is\")\n",
        "print(x_train_grade_ohe.shape, y_train.shape)\n",
        "print(X_cv_grade_ohe.shape, Y_cv.shape)\n",
        "print(X_test_grade_ohe.shape,Y_test.shape)\n",
        "print(vectorizer.get_feature_names())\n",
        "print(\"=\"*100)"
      ],
      "execution_count": 0,
      "outputs": [
        {
          "output_type": "stream",
          "text": [
            "After vectorizations of the project_grade_category , One-hot-encoding shape of the data is\n",
            "(37700, 4) (37700,)\n",
            "(11055, 4) (11055,)\n",
            "(16500, 4) (16500,)\n",
            "['9-12', '6-8', '3-5', 'PreK-2']\n",
            "====================================================================================================\n"
          ],
          "name": "stdout"
        }
      ]
    },
    {
      "cell_type": "markdown",
      "metadata": {
        "id": "f16RtFxDdppw",
        "colab_type": "text"
      },
      "source": [
        "## 2.5 Normalizing the numerical features: Price"
      ]
    },
    {
      "cell_type": "code",
      "metadata": {
        "id": "KzRldppIDRqQ",
        "colab_type": "code",
        "outputId": "50d97f3a-dd5b-403b-b7a1-ef7842a2b4be",
        "colab": {
          "base_uri": "https://localhost:8080/",
          "height": 104
        }
      },
      "source": [
        "from sklearn.preprocessing import StandardScaler\n",
        "standard_vec = StandardScaler(with_mean = False)\n",
        "# this will rise an error Expected 2D array, got 1D array instead: \n",
        "# array=[105.22 215.96  96.01 ... 368.98  80.53 709.67].\n",
        "# Reshape your data either using \n",
        "# array.reshape(-1, 1) if your data has a single feature \n",
        "# array.reshape(1, -1)  if it contains a single sample.\n",
        "standard_vec.fit(x_train['price'].values.reshape(-1,1))\n",
        "\n",
        "x_train_price_std = standard_vec.transform(x_train['price'].values.reshape(-1,1))\n",
        "X_cv_price_std = standard_vec.transform(X_cv['price'].values.reshape(-1,1))\n",
        "X_test_price_std = standard_vec.transform(X_test['price'].values.reshape(-1,1))\n",
        "\n",
        "print(\"After vectorizations of the price data ,  shape of the data after standazing\")\n",
        "print(x_train_price_std.shape, y_train.shape)\n",
        "print(X_cv_price_std.shape, Y_cv.shape)\n",
        "print(X_test_price_std.shape, Y_test.shape)\n",
        "print(\"=\"*100)"
      ],
      "execution_count": 0,
      "outputs": [
        {
          "output_type": "stream",
          "text": [
            "After vectorizations of the price data ,  shape of the data after standazing\n",
            "(37700, 1) (37700,)\n",
            "(11055, 1) (11055,)\n",
            "(16500, 1) (16500,)\n",
            "====================================================================================================\n"
          ],
          "name": "stdout"
        }
      ]
    },
    {
      "cell_type": "code",
      "metadata": {
        "id": "IRcjUJ7foCzW",
        "colab_type": "code",
        "outputId": "d14a5cf9-9fd4-4ef5-98a9-4dc368570c1a",
        "colab": {
          "base_uri": "https://localhost:8080/",
          "height": 104
        }
      },
      "source": [
        "from sklearn.preprocessing import StandardScaler\n",
        "standard_vector = StandardScaler(with_mean = False)\n",
        "# this will rise an error Expected 2D array, got 1D array instead: \n",
        "# array=[105.22 215.96  96.01 ... 368.98  80.53 709.67].\n",
        "# Reshape your data either using \n",
        "# array.reshape(-1, 1) if your data has a single feature \n",
        "# array.reshape(1, -1)  if it contains a single sample.\n",
        "standard_vector.fit(x_train['teacher_number_of_previously_posted_projects'].values.reshape(-1,1))\n",
        "\n",
        "x_train_projects_std = standard_vector.transform(x_train['teacher_number_of_previously_posted_projects'].values.reshape(-1,1))\n",
        "X_cv_projects_std = standard_vector.transform(X_cv['teacher_number_of_previously_posted_projects'].values.reshape(-1,1))\n",
        "X_test_projects_std = standard_vector.transform(X_test['teacher_number_of_previously_posted_projects'].values.reshape(-1,1))\n",
        "\n",
        "print(\"After vectorizations of the teacher_number_of_previously_posted_projects , shape of the data after standazing\")\n",
        "print(x_train_projects_std.shape, y_train.shape)\n",
        "print(X_cv_projects_std.shape,Y_cv.shape)\n",
        "print(X_test_projects_std.shape, Y_test.shape)\n",
        "print(\"=\"*100)"
      ],
      "execution_count": 0,
      "outputs": [
        {
          "output_type": "stream",
          "text": [
            "After vectorizations of the teacher_number_of_previously_posted_projects , shape of the data after standazing\n",
            "(37700, 1) (37700,)\n",
            "(11055, 1) (11055,)\n",
            "(16500, 1) (16500,)\n",
            "====================================================================================================\n"
          ],
          "name": "stdout"
        }
      ]
    },
    {
      "cell_type": "code",
      "metadata": {
        "id": "SXts4ogIpaKl",
        "colab_type": "code",
        "outputId": "3df76022-9d51-478d-eefc-91a24bc85d7a",
        "colab": {
          "base_uri": "https://localhost:8080/",
          "height": 104
        }
      },
      "source": [
        "from sklearn.preprocessing import StandardScaler\n",
        "standard_vector1 = StandardScaler(with_mean = False)\n",
        "# this will rise an error Expected 2D array, got 1D array instead: \n",
        "# array=[105.22 215.96  96.01 ... 368.98  80.53 709.67].\n",
        "# Reshape your data either using \n",
        "# array.reshape(-1, 1) if your data has a single feature \n",
        "# array.reshape(1, -1)  if it contains a single sample.\n",
        "standard_vector1.fit(x_train['quantity'].values.reshape(-1,1))\n",
        "\n",
        "x_train_qty_std = standard_vector1.transform(x_train['quantity'].values.reshape(-1,1))\n",
        "X_cv_qty_std = standard_vector1.transform(X_cv['quantity'].values.reshape(-1,1))\n",
        "X_test_qty_std = standard_vector1.transform(X_test['quantity'].values.reshape(-1,1))\n",
        "\n",
        "print(\"After vectorizations\")\n",
        "print(x_train_qty_std.shape, y_train.shape)\n",
        "print(X_cv_qty_std.shape, Y_cv.shape)\n",
        "print(X_test_qty_std.shape, Y_test.shape)\n",
        "print(\"=\"*100)"
      ],
      "execution_count": 0,
      "outputs": [
        {
          "output_type": "stream",
          "text": [
            "After vectorizations\n",
            "(37700, 1) (37700,)\n",
            "(11055, 1) (11055,)\n",
            "(16500, 1) (16500,)\n",
            "====================================================================================================\n"
          ],
          "name": "stdout"
        }
      ]
    },
    {
      "cell_type": "markdown",
      "metadata": {
        "id": "HhtI8N_n3edk",
        "colab_type": "text"
      },
      "source": [
        "## 3 Appling KNN on different kind of featurization (\"BOW\" and \"TFIDF\" )\n"
      ]
    },
    {
      "cell_type": "markdown",
      "metadata": {
        "id": "eG-CJIbn3z8g",
        "colab_type": "text"
      },
      "source": [
        "### 3.1  `**Set 1**`: Categorical Vectorised data , Numerical Vectorised data, Project_title(BOW) + Preprocessed_essay (BOW) "
      ]
    },
    {
      "cell_type": "code",
      "metadata": {
        "id": "VxTMVAWxZYNw",
        "colab_type": "code",
        "outputId": "f48de141-04fe-4439-c69d-dc9fd9f5b06f",
        "colab": {
          "base_uri": "https://localhost:8080/",
          "height": 87
        }
      },
      "source": [
        "from scipy.sparse import hstack\n",
        "X1_tr = hstack((x_train_clean_categories_ohe,x_train_clean_subcat_ohe,x_train_teacher_ohe,x_train_state_ohe,\\\n",
        "                x_train_grade_ohe,x_train_titles_bow,x_train_essay_bow,x_train_price_std,x_train_projects_std,x_train_qty_std)).tocsr()\n",
        "X1_cv = hstack((X_cv_clean_categories_ohe,X_cv_clean_subcat_ohe,X_cv_teacher_ohe,X_cv_state_ohe,X_cv_grade_ohe,\\\n",
        "                X_cv_price_std,X_cv_projects_std,X_cv_qty_std,X_cv_essay_bow,X_cv_titles_bow)).tocsr()\n",
        "X1_te =hstack((X_test_clean_categories_ohe,X_test_clean_subcat_ohe,X_test_teacher_ohe,X_test_state_ohe,\\\n",
        "               X_test_grade_ohe,X_test_essay_bow,X_test_titles_bow,X_test_price_std,X_test_projects_std,X_test_qty_std)).tocsr()\n",
        "\n",
        "\n",
        "print(\"The final Data Matrix for Set:1\" , \" All the shapes of the data represent the merged features as mentioned in the tittle\")\n",
        "print(\"shape of X_train is : \",            X1_tr.shape)\n",
        "print(\"shape of X_Cross validation is :\" , X1_cv.shape)\n",
        "print(\"shape of X_test is \",               X1_te.shape)"
      ],
      "execution_count": 0,
      "outputs": [
        {
          "output_type": "stream",
          "text": [
            "The final Data Matrix for Set:1  All the shapes of the data represent the merged features as mentioned in the tittle\n",
            "shape of X_train is :  (37700, 3920)\n",
            "shape of X_Cross validation is : (11055, 3920)\n",
            "shape of X_test is  (16500, 3920)\n"
          ],
          "name": "stdout"
        }
      ]
    },
    {
      "cell_type": "code",
      "metadata": {
        "id": "Ci0TbdmT3Uan",
        "colab_type": "code",
        "colab": {}
      },
      "source": [
        "def batch_predict(clf, data):\n",
        "  y_data_pred = []\n",
        "  tr_loop = data.shape[0] - data.shape[0]%1000\n",
        "  # consider you X_tr shape is 49041, then your tr_loop will be 49041 - 49041%1000 = 49000\n",
        "  # in this for loop we will iterate unti the last 1000 multiplier\n",
        "  for i in range(0, tr_loop, 1000):\n",
        "      y_data_pred.extend(clf.predict_proba(data[i:i+1000])[:,1])\n",
        "  # we will be predicting for the last data points\n",
        "  if data.shape[0]%1000 !=0:\n",
        "      y_data_pred.extend(clf.predict_proba(data[tr_loop:])[:,1])\n",
        "\n",
        "  return y_data_pred"
      ],
      "execution_count": 0,
      "outputs": []
    },
    {
      "cell_type": "code",
      "metadata": {
        "id": "sO-IduFB9cS9",
        "colab_type": "code",
        "outputId": "c1543658-fcb2-49a4-b596-ac8900a1a0cc",
        "colab": {
          "base_uri": "https://localhost:8080/",
          "height": 313
        }
      },
      "source": [
        "import matplotlib.pyplot as plt\n",
        "from sklearn.neighbors import KNeighborsClassifier\n",
        "from sklearn.metrics import roc_auc_score\n",
        "\n",
        "train_auc = []\n",
        "cv_auc = []\n",
        "K = [3, 15, 25, 51, 101]\n",
        "for i in tqdm(K):\n",
        "    neigh = KNeighborsClassifier(n_neighbors=i, n_jobs=-1)\n",
        "    neigh.fit(X1_tr, y_train)\n",
        "\n",
        "    y_train_pred = batch_predict(neigh, X1_tr)    \n",
        "    y_cv_pred = batch_predict(neigh, X1_cv)\n",
        "\n",
        "    # roc_auc_score(y_tr, y_score) the 2nd parameter should be probability estimates of the positive class\n",
        "    # not the predicted outputs        \n",
        "    train_auc.append(roc_auc_score(y_train,y_train_pred))\n",
        "    cv_auc.append(roc_auc_score(Y_cv, y_cv_pred))\n",
        "\n",
        "plt.plot(K, train_auc, label='Train AUC')\n",
        "plt.plot(K, cv_auc, label='CV AUC')\n",
        "\n",
        "plt.scatter(K, train_auc, label='Train AUC points')\n",
        "plt.scatter(K, cv_auc, label='CV AUC points')\n",
        "\n",
        "plt.legend()\n",
        "plt.xlabel(\"K: hyperparameter\")\n",
        "plt.ylabel(\"AUC\")\n",
        "plt.title(\"ERROR PLOTS\")\n",
        "plt.grid(color='black', linestyle='-', linewidth=1)\n",
        "plt.show()"
      ],
      "execution_count": 0,
      "outputs": [
        {
          "output_type": "stream",
          "text": [
            "100%|██████████| 5/5 [23:24<00:00, 280.27s/it]\n"
          ],
          "name": "stderr"
        },
        {
          "output_type": "display_data",
          "data": {
            "image/png": "[encoded data removed]",
            "text/plain": [
              "<Figure size 432x288 with 1 Axes>"
            ]
          },
          "metadata": {
            "tags": []
          }
        }
      ]
    },
    {
      "cell_type": "markdown",
      "metadata": {
        "id": "iBWb4ibWzq1L",
        "colab_type": "text"
      },
      "source": [
        "\n",
        "1.   The error plot above representes the Train AUC and CV AUC Curve,      wherein we choose K(hyperparameter value) such that,it will be the  maximum AUC on cv data and distance between the train-data line(\"Blue\") and CV-line(\"orange\") results be to minimum.\n",
        "2.   The best value of k is found to be 102\n",
        "3.   Here I have used the \"AUCROC\" curve for choosing the best hypermeter as the data is imbalanced(though i have balanced it) , the \"AUCROC\" curve considers both the class labels equally . \n",
        "4.   The other hyperparameter tuning techiniques can also be choosen as \"CV\" and \"K-fold CV\"\n",
        "\n"
      ]
    },
    {
      "cell_type": "code",
      "metadata": {
        "id": "QqVUb2tP3wAz",
        "colab_type": "code",
        "colab": {}
      },
      "source": [
        "best_k = 101"
      ],
      "execution_count": 0,
      "outputs": []
    },
    {
      "cell_type": "code",
      "metadata": {
        "id": "ad4q3vkpDl9S",
        "colab_type": "code",
        "outputId": "c67202ad-087b-4c80-9ce1-5fe772f17aa7",
        "colab": {
          "base_uri": "https://localhost:8080/",
          "height": 295
        }
      },
      "source": [
        "# https://scikit-learn.org/stable/modules/generated/sklearn.metrics.roc_curve.html#sklearn.metrics.roc_curve\n",
        "from sklearn.metrics import roc_curve, auc\n",
        "\n",
        "\n",
        "neigh = KNeighborsClassifier(n_neighbors=best_k, n_jobs=-1)\n",
        "neigh.fit(X1_tr, y_train)\n",
        "# roc_auc_score(y_true, y_score) the 2nd parameter should be probability estimates of the positive class\n",
        "# not the predicted outputs\n",
        "\n",
        "y_train_pred = batch_predict(neigh, X1_tr)    \n",
        "y_test_pred = batch_predict(neigh, X1_te)\n",
        "\n",
        "train_fpr, train_tpr, tr_thresholds = roc_curve(y_train, y_train_pred)\n",
        "test_fpr, test_tpr, te_thresholds = roc_curve(Y_test, y_test_pred)\n",
        "\n",
        "plt.plot(train_fpr, train_tpr, label=\"Train AUC =\"+str(auc(train_fpr, train_tpr)))\n",
        "plt.plot(test_fpr, test_tpr, label=\"Test AUC =\"+str(auc(test_fpr, test_tpr)))\n",
        "plt.legend()\n",
        "plt.xlabel(\"Fasle Poitive Rate\")\n",
        "plt.ylabel(\"True Positive Rate\")\n",
        "plt.title(\"ERROR PLOTS\")\n",
        "plt.grid(color='black', linestyle='-', linewidth=1)\n",
        "plt.show()"
      ],
      "execution_count": 0,
      "outputs": [
        {
          "output_type": "display_data",
          "data": {
            "image/png": "[encoded data removed]",
            "text/plain": [
              "<Figure size 432x288 with 1 Axes>"
            ]
          },
          "metadata": {
            "tags": []
          }
        }
      ]
    },
    {
      "cell_type": "markdown",
      "metadata": {
        "id": "Axcvxb2Dh0cB",
        "colab_type": "text"
      },
      "source": [
        "**Conclusion for SET : 1**\n",
        "\n",
        "1.   The above Represents the TRP and FPR rates on the either axis and this curve is know as the AUCROC curve , it is a metrix to evaluate the performance of the model. \n",
        "2.   As the grap represents here the  Train Auc = 0.67 , so from this we can conclude that the model is predecting the values with 67 % probabilty.\n",
        "\n"
      ]
    },
    {
      "cell_type": "code",
      "metadata": {
        "id": "cwyM3Kah-f_o",
        "colab_type": "code",
        "colab": {}
      },
      "source": [
        "# we are writing our own function for predict, with defined thresould\n",
        "# we will pick a threshold that will give the least fpr\n",
        "def find_best_threshold(threshould, fpr, tpr):\n",
        "    t = threshould[np.argmax(tpr*(1-fpr))]\n",
        "    # (tpr*(1-fpr)) will be maximum if your fpr is very low and tpr is very high\n",
        "    print(\"the maximum value of tpr*(1-fpr)\", max(tpr*(1-fpr)), \"for threshold\", np.round(t,3))\n",
        "    return t\n",
        "\n",
        "def predict_with_best_t(proba, threshould):\n",
        "    predictions = []\n",
        "    for i in proba:\n",
        "        if i>=threshould:\n",
        "            predictions.append(1)\n",
        "        else:\n",
        "            predictions.append(0)\n",
        "    return predictions\n"
      ],
      "execution_count": 0,
      "outputs": []
    },
    {
      "cell_type": "code",
      "metadata": {
        "id": "DONOn9L49hpY",
        "colab_type": "code",
        "outputId": "327f086e-4060-4f56-adb0-9bc3a55c312b",
        "colab": {
          "base_uri": "https://localhost:8080/",
          "height": 349
        }
      },
      "source": [
        "print(\"=\"*100)\n",
        "from sklearn.metrics import confusion_matrix\n",
        "best_t = find_best_threshold(tr_thresholds, train_fpr, train_tpr)\n",
        "Confusion_metrix_Train_data = pd.DataFrame(confusion_matrix(y_train, predict_with_best_t(y_train_pred, best_t)))\n",
        "Confusion_metrix_Test_data = pd.DataFrame(confusion_matrix(Y_test, predict_with_best_t(y_test_pred, best_t)))\n",
        "import seaborn as sns\n",
        "sns.set(font_scale=1.4)#for label size\n",
        "print(\"The Confusion metrix of train data\")\n",
        "sns.heatmap(Confusion_metrix_Train_data,annot=True, annot_kws={\"size\": 20},fmt =\"g\")"
      ],
      "execution_count": 0,
      "outputs": [
        {
          "output_type": "stream",
          "text": [
            "====================================================================================================\n",
            "the maximum value of tpr*(1-fpr) 0.3806671404146937 for threshold 0.455\n",
            "The Confusion metrix of train data\n"
          ],
          "name": "stdout"
        },
        {
          "output_type": "execute_result",
          "data": {
            "text/plain": [
              "<matplotlib.axes._subplots.AxesSubplot at 0x7fd41ea84c88>"
            ]
          },
          "metadata": {
            "tags": []
          },
          "execution_count": 52
        },
        {
          "output_type": "display_data",
          "data": {
            "image/png": "[encoded data removed]",
            "text/plain": [
              "<Figure size 432x288 with 2 Axes>"
            ]
          },
          "metadata": {
            "tags": []
          }
        }
      ]
    },
    {
      "cell_type": "code",
      "metadata": {
        "id": "qc8fxpoZPS2I",
        "colab_type": "code",
        "outputId": "06c2db4f-0a3d-43ce-b833-d9d4927b0c42",
        "colab": {
          "base_uri": "https://localhost:8080/",
          "height": 314
        }
      },
      "source": [
        "print(\"The Confusion metrix of test data \")\n",
        "sns.heatmap(Confusion_metrix_Test_data,annot=True, annot_kws={\"size\": 20},fmt =\"g\")"
      ],
      "execution_count": 0,
      "outputs": [
        {
          "output_type": "stream",
          "text": [
            "The Confusion metrix of test data \n"
          ],
          "name": "stdout"
        },
        {
          "output_type": "execute_result",
          "data": {
            "text/plain": [
              "<matplotlib.axes._subplots.AxesSubplot at 0x7fd41ec830f0>"
            ]
          },
          "metadata": {
            "tags": []
          },
          "execution_count": 53
        },
        {
          "output_type": "display_data",
          "data": {
            "image/png": "[encoded data removed]",
            "text/plain": [
              "<Figure size 432x288 with 2 Axes>"
            ]
          },
          "metadata": {
            "tags": []
          }
        }
      ]
    },
    {
      "cell_type": "markdown",
      "metadata": {
        "id": "8dR69J3GodTM",
        "colab_type": "text"
      },
      "source": [
        "1.   The Ouput Stated above represents the maximun value of TRP (i.e tpr*(1-fpr) \"0.3944289258349809\" corrosponding to whcih the maximum thershold is 0.48 .\n",
        "2.   The Second output represnts the Confusion metrix Based on the thershold of 0.48 ,  which states that the values below the thershold of 0.48 are classified as 0 and the values above 0.48 are classified as 1.\n",
        "\n",
        "\n",
        "\n"
      ]
    },
    {
      "cell_type": "markdown",
      "metadata": {
        "id": "UTA0w2fxhhKA",
        "colab_type": "text"
      },
      "source": [
        "### 3.2  `**Set 2**`: Categorical, Numerical features + Project_title(TFIDF)+ Preprocessed_essay (TFIDF)"
      ]
    },
    {
      "cell_type": "code",
      "metadata": {
        "id": "Rb1juFbjRB3G",
        "colab_type": "code",
        "outputId": "887b5ef3-e8ac-41da-9919-9dbf77905132",
        "colab": {
          "base_uri": "https://localhost:8080/",
          "height": 104
        }
      },
      "source": [
        "# Applying TF-IDF on Prohect title :\n",
        "from sklearn.feature_extraction.text import TfidfVectorizer\n",
        "vectorizer = TfidfVectorizer(min_df=10)\n",
        "vectorizer.fit(x_train[\"clean_titles\"].values)\n",
        "\n",
        "x_tain_project_titles_tfidf = vectorizer.transform(x_train[\"clean_titles\"].values)\n",
        "X_cv_project_titles_tfidf = vectorizer.transform(X_cv[\"clean_titles\"].values)\n",
        "X_test_project_titles_tfidf = vectorizer.transform(X_test[\"clean_titles\"].values)\n",
        "\n",
        "\n",
        "print(\"After TFIDF vectorizations of the clean_titles , shape of the data after standazing\")\n",
        "print(x_tain_project_titles_tfidf.shape, y_train.shape)\n",
        "print(X_cv_project_titles_tfidf.shape,Y_cv.shape)\n",
        "print(X_test_project_titles_tfidf.shape, Y_test.shape)\n",
        "print(\"*\"*100)"
      ],
      "execution_count": 0,
      "outputs": [
        {
          "output_type": "stream",
          "text": [
            "After TFIDF vectorizations of the clean_titles , shape of the data after standazing\n",
            "(37700, 1817) (37700,)\n",
            "(11055, 1817) (11055,)\n",
            "(16500, 1817) (16500,)\n",
            "****************************************************************************************************\n"
          ],
          "name": "stdout"
        }
      ]
    },
    {
      "cell_type": "code",
      "metadata": {
        "id": "MXNpSjm-y1Xb",
        "colab_type": "code",
        "outputId": "8a95265e-3b09-4f02-d871-efa09a2c05b6",
        "colab": {
          "base_uri": "https://localhost:8080/",
          "height": 104
        }
      },
      "source": [
        "# Applying the Tfidf Vectrization on Preprocessed_essay \n",
        "from sklearn.feature_extraction.text import TfidfVectorizer\n",
        "vectorizer = TfidfVectorizer(min_df=10)\n",
        "vectorizer.fit(x_train[\"essay\"])\n",
        "\n",
        "x_tain_essay_tfidf = vectorizer.transform(x_train[\"essay\"].values)\n",
        "X_cv_essay_tfidf = vectorizer.transform(X_cv[\"essay\"].values)\n",
        "X_test_essay_tfidf = vectorizer.transform(X_test[\"essay\"].values)\n",
        " \n",
        "\n",
        "print(\"After TFIDF vectorizations of the essay , shape of the data after standazing\")\n",
        "print(x_tain_essay_tfidf.shape, y_train.shape)\n",
        "print(X_cv_essay_tfidf.shape,Y_cv.shape)\n",
        "print(X_test_essay_tfidf.shape, Y_test.shape)\n",
        "print(\"*\"*100)"
      ],
      "execution_count": 0,
      "outputs": [
        {
          "output_type": "stream",
          "text": [
            "After TFIDF vectorizations of the essay , shape of the data after standazing\n",
            "(37700, 11458) (37700,)\n",
            "(11055, 11458) (11055,)\n",
            "(16500, 11458) (16500,)\n",
            "****************************************************************************************************\n"
          ],
          "name": "stdout"
        }
      ]
    },
    {
      "cell_type": "markdown",
      "metadata": {
        "id": "1IroMDjg41sf",
        "colab_type": "text"
      },
      "source": [
        "##### Creating new data-set for set -2 \n",
        "##### Catogorial data , Numerical data , Essay(TFIDF) , Project_tittle(TFIDF)"
      ]
    },
    {
      "cell_type": "code",
      "metadata": {
        "id": "9YC0iCK64aSa",
        "colab_type": "code",
        "outputId": "ebad3f1a-9cd3-473c-cc24-f76b236920a3",
        "colab": {
          "base_uri": "https://localhost:8080/",
          "height": 87
        }
      },
      "source": [
        "# the data points are merged using the Hstack which we import from sklearn \n",
        "from scipy.sparse import hstack\n",
        "X2_tr = hstack((x_train_clean_categories_ohe,x_train_clean_subcat_ohe,x_train_teacher_ohe,x_train_state_ohe,\\\n",
        "                x_train_grade_ohe,x_train_price_std,x_train_projects_std,x_train_qty_std,x_tain_project_titles_tfidf,x_tain_essay_tfidf)).tocsr()\n",
        "X2_cv = hstack((X_cv_clean_categories_ohe,X_cv_clean_subcat_ohe,X_cv_teacher_ohe,X_cv_state_ohe,X_cv_grade_ohe,\\\n",
        "                X_cv_price_std,X_cv_projects_std,X_cv_qty_std,X_cv_project_titles_tfidf,X_cv_essay_tfidf)).tocsr()\n",
        "X2_te =hstack((X_test_clean_categories_ohe,X_test_clean_subcat_ohe,X_test_teacher_ohe,X_test_state_ohe,\\\n",
        "               X_test_grade_ohe,X_test_price_std,X_test_projects_std,X_test_qty_std,X_test_project_titles_tfidf,X_test_essay_tfidf)).tocsr()\n",
        "\n",
        "\n",
        "print(\"The final Data Matrix for Set:2\" , \" All the shapes of the data represent the merged features as mentioned in the tittle\")\n",
        "print(\"shape of X_train is : \",            X2_tr.shape)\n",
        "print(\"shape of X_Cross validation is :\" , X2_cv.shape)\n",
        "print(\"shape of X_test is \",               X2_te.shape)"
      ],
      "execution_count": 0,
      "outputs": [
        {
          "output_type": "stream",
          "text": [
            "The final Data Matrix for Set:2  All the shapes of the data represent the merged features as mentioned in the tittle\n",
            "shape of X_train is :  (37700, 13378)\n",
            "shape of X_Cross validation is : (11055, 13378)\n",
            "shape of X_test is  (16500, 13378)\n"
          ],
          "name": "stdout"
        }
      ]
    },
    {
      "cell_type": "code",
      "metadata": {
        "id": "c-khIduF_o1v",
        "colab_type": "code",
        "colab": {}
      },
      "source": [
        "def batch_predict(clf, data):\n",
        "  y1_data_pred = []\n",
        "  tr_loop = data.shape[0] - data.shape[0]%1000\n",
        "  # consider you X_tr shape is 49041, then your tr_loop will be 49041 - 49041%1000 = 49000\n",
        "  # in this for loop we will iterate unti the last 1000 multiplier\n",
        "  for i in range(0, tr_loop, 1000):\n",
        "      y1_data_pred.extend(clf.predict_proba(data[i:i+1000])[:,1])\n",
        "  # we will be predicting for the last data points\n",
        "  if data.shape[0]%1000 !=0:\n",
        "      y1_data_pred.extend(clf.predict_proba(data[tr_loop:])[:,1])\n",
        "\n",
        "  return y1_data_pred"
      ],
      "execution_count": 0,
      "outputs": []
    },
    {
      "cell_type": "code",
      "metadata": {
        "id": "OKoNCI1HAWfJ",
        "colab_type": "code",
        "outputId": "05dcf94e-726e-414d-8635-bbcc7aa7daed",
        "colab": {
          "base_uri": "https://localhost:8080/",
          "height": 333
        }
      },
      "source": [
        "import matplotlib.pyplot as plt\n",
        "from sklearn.neighbors import KNeighborsClassifier\n",
        "from sklearn.metrics import roc_auc_score\n",
        "\n",
        "train_auc1 = []\n",
        "cv_auc1 = []\n",
        "K = [3, 15, 25, 51, 101]\n",
        "for i in tqdm(K):\n",
        "    neigh = KNeighborsClassifier(n_neighbors=i, n_jobs=-1)\n",
        "    neigh.fit(X2_tr, y_train)\n",
        "\n",
        "    y1_train_pred = batch_predict(neigh, X2_tr)    \n",
        "    y1_cv_pred = batch_predict(neigh, X2_cv)\n",
        "\n",
        "    # roc_auc_score(y_tr, y_score) the 2nd parameter should be probability estimates of the positive class\n",
        "    # not the predicted outputs        \n",
        "    train_auc1.append(roc_auc_score(y_train,y1_train_pred))\n",
        "    cv_auc1.append(roc_auc_score(Y_cv, y1_cv_pred))\n",
        "\n",
        "plt.plot(K, train_auc1, label='Train AUC')\n",
        "plt.plot(K, cv_auc1, label='CV AUC')\n",
        "\n",
        "plt.scatter(K, train_auc1, label='Train AUC points')\n",
        "plt.scatter(K, cv_auc1, label='CV AUC points')\n",
        "\n",
        "plt.legend()\n",
        "plt.xlabel(\"K: hyperparameter\")\n",
        "plt.ylabel(\"AUC\")\n",
        "plt.title(\"ERROR PLOTS\")\n",
        "plt.grid(color='black', linestyle='-', linewidth=1)\n",
        "plt.show()"
      ],
      "execution_count": 0,
      "outputs": [
        {
          "output_type": "stream",
          "text": [
            "100%|██████████| 5/5 [27:50<00:00, 332.54s/it]\n"
          ],
          "name": "stderr"
        },
        {
          "output_type": "display_data",
          "data": {
            "image/png": "[encoded data removed]",
            "text/plain": [
              "<Figure size 432x288 with 1 Axes>"
            ]
          },
          "metadata": {
            "tags": []
          }
        }
      ]
    },
    {
      "cell_type": "markdown",
      "metadata": {
        "id": "WSp7nYZRqlSS",
        "colab_type": "text"
      },
      "source": [
        "\n",
        "1.   The error plot above representes the Train AUC and CV AUC Curve,      wherein we choose K(hyperparameter value) such that,it will be the  maximum AUC on cv data and distance between the train-data line(\"Blue\") and CV-line(\"orange\") results be to minimum.\n",
        "2.   The best value of k is found to be 101\n",
        "3.   Here I have used the \"AUCROC\" curve for choosing the best hypermeter as the data is imbalanced(though i have balanced it) , the \"AUCROC\" curve considers both the class labels equally . \n",
        "4.   The other hyperparameter tuning techiniques can also be choosen as \"CV\" and \"K-fold CV\""
      ]
    },
    {
      "cell_type": "code",
      "metadata": {
        "id": "aCbdipCcEYnl",
        "colab_type": "code",
        "colab": {}
      },
      "source": [
        "best_k1 = 101"
      ],
      "execution_count": 0,
      "outputs": []
    },
    {
      "cell_type": "code",
      "metadata": {
        "id": "X3zqxbi-N9Lw",
        "colab_type": "code",
        "outputId": "7c9f94dc-7177-4597-d082-919d422ff197",
        "colab": {
          "base_uri": "https://localhost:8080/",
          "height": 315
        }
      },
      "source": [
        "# https://scikit-learn.org/stable/modules/generated/sklearn.metrics.roc_curve.html#sklearn.metrics.roc_curve\n",
        "from sklearn.metrics import roc_curve, auc\n",
        "\n",
        "\n",
        "neigh = KNeighborsClassifier(n_neighbors=best_k1, n_jobs=-1)\n",
        "neigh.fit(X2_tr, y_train)\n",
        "# roc_auc_score(y_true, y_score) the 2nd parameter should be probability estimates of the positive class\n",
        "# not the predicted outputs\n",
        "\n",
        "y2_train_pred = batch_predict(neigh, X2_tr)    \n",
        "y2_test_pred = batch_predict(neigh, X2_te)\n",
        "\n",
        "train1_fpr, train1_tpr, tr1_thresholds = roc_curve(y_train, y2_train_pred)\n",
        "test1_fpr, test1_tpr, te1_thresholds = roc_curve(Y_test, y2_test_pred)\n",
        "\n",
        "plt.plot(train1_fpr, train1_tpr, label=\"Tain AUC =\"+str(auc(train1_fpr, train1_tpr)))\n",
        "plt.plot(test1_fpr, test1_tpr, label=\"Test AUC =\"+str(auc(test1_fpr, test1_tpr)))\n",
        "plt.legend()\n",
        "plt.xlabel(\"Fasle Postive Rate\")\n",
        "plt.ylabel(\"True Pstive Rate\")\n",
        "plt.title(\"ROC_AUC Curve\")\n",
        "plt.grid(color='black', linestyle='-', linewidth=1)\n",
        "plt.show()"
      ],
      "execution_count": 0,
      "outputs": [
        {
          "output_type": "display_data",
          "data": {
            "image/png": "[encoded data removed]",
            "text/plain": [
              "<Figure size 432x288 with 1 Axes>"
            ]
          },
          "metadata": {
            "tags": []
          }
        }
      ]
    },
    {
      "cell_type": "markdown",
      "metadata": {
        "id": "Q_pT4Zmgqt13",
        "colab_type": "text"
      },
      "source": [
        "**Conclusion for SET : 2**\n",
        "\n",
        "1.   The above Represents the TRP and FPR rates on the either axis and this curve is know as the AUCROC curve , it is a metrix to evaluate the performance of the model. \n",
        "2.   As teh grap represents here the  Train Auc = 0.67 , so from this we can conclude that the model is predecting the values with 67 % probabilty."
      ]
    },
    {
      "cell_type": "code",
      "metadata": {
        "id": "SP7t9lRBhhG7",
        "colab_type": "code",
        "colab": {}
      },
      "source": [
        "#this is the custom function for predecting the best thershold and sorting the values according the threshould \n",
        "def find_best_threshold(threshould, fpr, tpr):\n",
        "    t = threshould[np.argmax(tpr*(1-fpr))]\n",
        "    # (tpr*(1-fpr)) will be maximum if your fpr is very low and tpr is very high\n",
        "    print(\"the maximum value of tpr*(1-fpr)\", max(tpr*(1-fpr)), \"for threshold\", np.round(t,3))\n",
        "    return t\n",
        "\n"
      ],
      "execution_count": 0,
      "outputs": []
    },
    {
      "cell_type": "code",
      "metadata": {
        "id": "vaw1Vu1_keJ_",
        "colab_type": "code",
        "colab": {}
      },
      "source": [
        "def predict_with_best_t(proba, threshould):\n",
        "    predictions = []\n",
        "    for i in proba:\n",
        "        if i>=threshould:\n",
        "            predictions.append(1)\n",
        "        else:\n",
        "            predictions.append(0)\n",
        "    return predictions"
      ],
      "execution_count": 0,
      "outputs": []
    },
    {
      "cell_type": "code",
      "metadata": {
        "id": "su2YhrAVi7Jq",
        "colab_type": "code",
        "outputId": "e93c2130-3023-44e1-c572-456847f180a2",
        "colab": {
          "base_uri": "https://localhost:8080/",
          "height": 331
        }
      },
      "source": [
        "from sklearn.metrics import confusion_matrix\n",
        "best_t = find_best_threshold(tr1_thresholds, train1_fpr, train1_tpr)\n",
        "Confusion_metrix_Train_data = pd.DataFrame(confusion_matrix(y_train, predict_with_best_t(y2_train_pred, best_t)))\n",
        "Confusion_metrix_Test_data = pd.DataFrame(confusion_matrix(Y_test, predict_with_best_t(y2_test_pred, best_t)))\n",
        "import seaborn as sns\n",
        "sns.set(font_scale=1.4)#for label size\n",
        "print(\"The Confusion metrix of train data\")\n",
        "sns.heatmap(Confusion_metrix_Train_data,annot=True, annot_kws={\"size\": 20},fmt =\"g\")\n"
      ],
      "execution_count": 0,
      "outputs": [
        {
          "output_type": "stream",
          "text": [
            "the maximum value of tpr*(1-fpr) 0.3863135264442865 for threshold 0.505\n",
            "The Confusion metrix of train data\n"
          ],
          "name": "stdout"
        },
        {
          "output_type": "execute_result",
          "data": {
            "text/plain": [
              "<matplotlib.axes._subplots.AxesSubplot at 0x7fd41eb92cf8>"
            ]
          },
          "metadata": {
            "tags": []
          },
          "execution_count": 63
        },
        {
          "output_type": "display_data",
          "data": {
            "image/png": "[encoded data removed]",
            "text/plain": [
              "<Figure size 432x288 with 2 Axes>"
            ]
          },
          "metadata": {
            "tags": []
          }
        }
      ]
    },
    {
      "cell_type": "code",
      "metadata": {
        "id": "yVHto-y7PIpC",
        "colab_type": "code",
        "outputId": "5b6c62b6-5fb9-4f1c-ff5f-4a47178ad077",
        "colab": {
          "base_uri": "https://localhost:8080/",
          "height": 314
        }
      },
      "source": [
        "print(\"The Confusion metrix of test data \")\n",
        "sns.heatmap(Confusion_metrix_Test_data,annot=True, annot_kws={\"size\": 20},fmt =\"g\")"
      ],
      "execution_count": 0,
      "outputs": [
        {
          "output_type": "stream",
          "text": [
            "The Confusion metrix of test data \n"
          ],
          "name": "stdout"
        },
        {
          "output_type": "execute_result",
          "data": {
            "text/plain": [
              "<matplotlib.axes._subplots.AxesSubplot at 0x7fd41eb5ca20>"
            ]
          },
          "metadata": {
            "tags": []
          },
          "execution_count": 64
        },
        {
          "output_type": "display_data",
          "data": {
            "image/png": "[encoded data removed]",
            "text/plain": [
              "<Figure size 432x288 with 2 Axes>"
            ]
          },
          "metadata": {
            "tags": []
          }
        }
      ]
    },
    {
      "cell_type": "markdown",
      "metadata": {
        "id": "eIB3sF_8qyhe",
        "colab_type": "text"
      },
      "source": [
        "\n",
        "1.   The Ouput Stated above represents the maximun value of TRP (i.e tpr*(1-fpr) \"0.3944\" corrosponding to whcih the maximum thershold is 0.48 .\n",
        "2.   The Second output represnts the Confusion metrix Based on the thershold of 0.48 ,  which states that the values below the thershold of 0.48 are classified as 0 and the values above 0.48 are classified as 1."
      ]
    },
    {
      "cell_type": "markdown",
      "metadata": {
        "id": "LbZX6qWSgd_N",
        "colab_type": "text"
      },
      "source": [
        "### 3.3 **Set 3**: Categorical, Numerical features + Project_title(AVG W2V)+ Preprocessed_essay (AVG W2V)"
      ]
    },
    {
      "cell_type": "code",
      "metadata": {
        "id": "y66SroOQegbo",
        "colab_type": "code",
        "outputId": "8709e067-c7f4-4ed1-dc11-b8e5767ffa25",
        "colab": {
          "base_uri": "https://localhost:8080/",
          "height": 104
        }
      },
      "source": [
        "# I am using the predefined word to vector which is pre-trained , hence we use the pickel file to access the file \n",
        "# stronging variables into pickle files python: http://www.jessicayung.com/how-to-use-pickle-to-save-and-load-variables-in-python/\n",
        "# please review the above link for more information \n",
        "# code to import file in google colab form drive \n",
        "\n",
        "\n",
        "import gdown\n",
        "\n",
        "url = 'https://drive.google.com/uc?id=1MqUasf7jYoPbG35MJ28VQcOjjNp-ZDDp'\n",
        "output = 'glove_vectors'\n",
        "gdown.download(url, output, quiet=False)"
      ],
      "execution_count": 0,
      "outputs": [
        {
          "output_type": "stream",
          "text": [
            "Downloading...\n",
            "From: https://drive.google.com/uc?id=1MqUasf7jYoPbG35MJ28VQcOjjNp-ZDDp\n",
            "To: /content/glove_vectors\n",
            "128MB [00:00, 190MB/s] \n"
          ],
          "name": "stderr"
        },
        {
          "output_type": "execute_result",
          "data": {
            "text/plain": [
              "'glove_vectors'"
            ]
          },
          "metadata": {
            "tags": []
          },
          "execution_count": 68
        }
      ]
    },
    {
      "cell_type": "code",
      "metadata": {
        "id": "0K4MO_UGnfcw",
        "colab_type": "code",
        "outputId": "1239578a-4b5c-437f-d4a0-baff3d13d2fc",
        "colab": {
          "base_uri": "https://localhost:8080/",
          "height": 35
        }
      },
      "source": [
        "#checking for files are present in the directory we are working or not \n",
        "ls"
      ],
      "execution_count": 0,
      "outputs": [
        {
          "output_type": "stream",
          "text": [
            "glove_vectors  resources.csv  \u001b[0m\u001b[01;34msample_data\u001b[0m/  train_data.csv\n"
          ],
          "name": "stdout"
        }
      ]
    },
    {
      "cell_type": "code",
      "metadata": {
        "id": "9t9HWC9Qnshw",
        "colab_type": "code",
        "colab": {}
      },
      "source": [
        "import pickle\n",
        "with open('glove_vectors', 'rb') as f:\n",
        "    model = pickle.load(f)\n",
        "    glove_words =  set(model.keys())"
      ],
      "execution_count": 0,
      "outputs": []
    },
    {
      "cell_type": "code",
      "metadata": {
        "id": "ZHmSsQiDn-pk",
        "colab_type": "code",
        "outputId": "7cb9a55d-e3bd-4292-8545-2a0220452758",
        "colab": {
          "base_uri": "https://localhost:8080/",
          "height": 69
        }
      },
      "source": [
        "# The code below represents the Avg-word-to-vector of Project tittle .\n",
        "# here we are calculating the Avg-word to vec for \"x_train\" . \n",
        "x_train_avg_w2v_vectors = []; # the avg-w2v for each sentence/review is stored in this list\n",
        "for sentence in tqdm(x_train['clean_titles'].values): # for each review/sentence\n",
        "    vector = np.zeros(300) # as word vectors are of zero length\n",
        "    cnt_words =0; # num of words with a valid vector in the sentence/review\n",
        "    for word in sentence.split(): # for each word in a review/sentence\n",
        "        if word in glove_words:\n",
        "            vector += model[word]\n",
        "            cnt_words += 1\n",
        "    if cnt_words != 0:\n",
        "        vector /= cnt_words\n",
        "    x_train_avg_w2v_vectors.append(vector)\n",
        "\n",
        "print(len(x_train_avg_w2v_vectors))\n",
        "print(len(x_train_avg_w2v_vectors[0]))\n",
        "# print(x_train_avg_w2v_vectors[0])"
      ],
      "execution_count": 0,
      "outputs": [
        {
          "output_type": "stream",
          "text": [
            "100%|██████████| 37700/37700 [00:00<00:00, 61949.27it/s]"
          ],
          "name": "stderr"
        },
        {
          "output_type": "stream",
          "text": [
            "37700\n",
            "300\n"
          ],
          "name": "stdout"
        },
        {
          "output_type": "stream",
          "text": [
            "\n"
          ],
          "name": "stderr"
        }
      ]
    },
    {
      "cell_type": "code",
      "metadata": {
        "id": "GO6U-C_lqKWO",
        "colab_type": "code",
        "outputId": "516f1092-6a1a-46d2-a160-66a6929507f8",
        "colab": {
          "base_uri": "https://localhost:8080/",
          "height": 69
        }
      },
      "source": [
        "# here we are calculating the Avg-word to vec for \"X_CV\"\n",
        "X_cv_avg_w2v_vectors = []; # the avg-w2v for each sentence/review is stored in this list\n",
        "for sentence in tqdm(X_cv['clean_titles'].values): # for each review/sentence\n",
        "    vector = np.zeros(300) # as word vectors are of zero length\n",
        "    cnt_words =0; # num of words with a valid vector in the sentence/review\n",
        "    for word in sentence.split(): # for each word in a review/sentence\n",
        "        if word in glove_words:\n",
        "            vector += model[word]\n",
        "            cnt_words += 1\n",
        "    if cnt_words != 0:\n",
        "        vector /= cnt_words\n",
        "    X_cv_avg_w2v_vectors.append(vector)\n",
        "\n",
        "print(len(X_cv_avg_w2v_vectors))\n",
        "print(len(X_cv_avg_w2v_vectors[0]))\n",
        "# print(X_cv_avg_w2v_vectors[0])"
      ],
      "execution_count": 0,
      "outputs": [
        {
          "output_type": "stream",
          "text": [
            "100%|██████████| 11055/11055 [00:00<00:00, 54683.34it/s]"
          ],
          "name": "stderr"
        },
        {
          "output_type": "stream",
          "text": [
            "11055\n",
            "300\n"
          ],
          "name": "stdout"
        },
        {
          "output_type": "stream",
          "text": [
            "\n"
          ],
          "name": "stderr"
        }
      ]
    },
    {
      "cell_type": "code",
      "metadata": {
        "id": "5nISjC2Sre8A",
        "colab_type": "code",
        "outputId": "ca76e52f-eff2-4891-c5e9-581d442d6010",
        "colab": {
          "base_uri": "https://localhost:8080/",
          "height": 69
        }
      },
      "source": [
        "# here we are calculating the Avg-word to vec for \"X_test\"\n",
        "X_test_avg_w2v_vectors = []; # the avg-w2v for each sentence/review is stored in this list\n",
        "for sentence in tqdm(X_test['clean_titles'].values): # for each review/sentence\n",
        "    vector = np.zeros(300) # as word vectors are of zero length\n",
        "    cnt_words =0; # num of words with a valid vector in the sentence/review\n",
        "    for word in sentence.split(): # for each word in a review/sentence\n",
        "        if word in glove_words:\n",
        "            vector += model[word]\n",
        "            cnt_words += 1\n",
        "    if cnt_words != 0:\n",
        "        vector /= cnt_words\n",
        "    X_test_avg_w2v_vectors.append(vector)\n",
        "\n",
        "print(len(X_test_avg_w2v_vectors))\n",
        "print(len(X_test_avg_w2v_vectors[0]))\n",
        "# print(X_cv_avg_w2v_vectors[0])"
      ],
      "execution_count": 0,
      "outputs": [
        {
          "output_type": "stream",
          "text": [
            "100%|██████████| 16500/16500 [00:00<00:00, 62645.36it/s]"
          ],
          "name": "stderr"
        },
        {
          "output_type": "stream",
          "text": [
            "16500\n",
            "300\n"
          ],
          "name": "stdout"
        },
        {
          "output_type": "stream",
          "text": [
            "\n"
          ],
          "name": "stderr"
        }
      ]
    },
    {
      "cell_type": "code",
      "metadata": {
        "id": "P7AbbZOmtqQ4",
        "colab_type": "code",
        "outputId": "b4f6aeed-7209-4da3-af47-8ddc2c5440a5",
        "colab": {
          "base_uri": "https://localhost:8080/",
          "height": 69
        }
      },
      "source": [
        "# The code below represents the Avg-word-to-vector of Essay.\n",
        "# here we are calculating the Avg-word to vec for \"x_train\" . \n",
        "x_train_essay_avg_w2v_vectors = []; # the avg-w2v for each sentence/review is stored in this list\n",
        "for sentence in tqdm(x_train['essay'].values): # for each review/sentence\n",
        "    vector = np.zeros(300) # as word vectors are of zero length\n",
        "    cnt_words =0; # num of words with a valid vector in the sentence/review\n",
        "    for word in sentence.split(): # for each word in a review/sentence\n",
        "        if word in glove_words:\n",
        "            vector += model[word]\n",
        "            cnt_words += 1\n",
        "    if cnt_words != 0:\n",
        "        vector /= cnt_words\n",
        "    x_train_essay_avg_w2v_vectors.append(vector)\n",
        "\n",
        "print(len(x_train_essay_avg_w2v_vectors))\n",
        "print(len(x_train_essay_avg_w2v_vectors[0]))\n",
        "# print(x_train_essay_avg_w2v_vectors[0])"
      ],
      "execution_count": 0,
      "outputs": [
        {
          "output_type": "stream",
          "text": [
            "100%|██████████| 37700/37700 [00:15<00:00, 2363.51it/s]"
          ],
          "name": "stderr"
        },
        {
          "output_type": "stream",
          "text": [
            "37700\n",
            "300\n"
          ],
          "name": "stdout"
        },
        {
          "output_type": "stream",
          "text": [
            "\n"
          ],
          "name": "stderr"
        }
      ]
    },
    {
      "cell_type": "code",
      "metadata": {
        "id": "_6W3knx5xluR",
        "colab_type": "code",
        "outputId": "60a15a18-bbd1-4a92-c647-d0af8afa1b9b",
        "colab": {
          "base_uri": "https://localhost:8080/",
          "height": 69
        }
      },
      "source": [
        "# here we are calculating the Avg-word to vec for \"X_CV\"\n",
        "X_cv_essay_avg_w2v_vectors = []; # the avg-w2v for each sentence/review is stored in this list\n",
        "for sentence in tqdm(X_cv['essay'].values): # for each review/sentence\n",
        "    vector = np.zeros(300) # as word vectors are of zero length\n",
        "    cnt_words =0; # num of words with a valid vector in the sentence/review\n",
        "    for word in sentence.split(): # for each word in a review/sentence\n",
        "        if word in glove_words:\n",
        "            vector += model[word]\n",
        "            cnt_words += 1\n",
        "    if cnt_words != 0:\n",
        "        vector /= cnt_words\n",
        "    X_cv_essay_avg_w2v_vectors.append(vector)\n",
        "\n",
        "print(len(X_cv_essay_avg_w2v_vectors))\n",
        "print(len(X_cv_essay_avg_w2v_vectors[0]))\n",
        "# print(X_cv_essay_avg_w2v_vectors[0])"
      ],
      "execution_count": 0,
      "outputs": [
        {
          "output_type": "stream",
          "text": [
            "100%|██████████| 11055/11055 [00:04<00:00, 2304.83it/s]"
          ],
          "name": "stderr"
        },
        {
          "output_type": "stream",
          "text": [
            "11055\n",
            "300\n"
          ],
          "name": "stdout"
        },
        {
          "output_type": "stream",
          "text": [
            "\n"
          ],
          "name": "stderr"
        }
      ]
    },
    {
      "cell_type": "code",
      "metadata": {
        "id": "JfJaFKByx697",
        "colab_type": "code",
        "outputId": "a332a527-fd5e-43cb-8e37-4fa7977bfcf3",
        "colab": {
          "base_uri": "https://localhost:8080/",
          "height": 69
        }
      },
      "source": [
        "# here we are calculating the Avg-word to vec for \"X_test\"\n",
        "X_test_essay_avg_w2v_vectors = []; # the avg-w2v for each sentence/review is stored in this list\n",
        "for sentence in tqdm(X_test['essay'].values): # for each review/sentence\n",
        "    vector = np.zeros(300) # as word vectors are of zero length\n",
        "    cnt_words =0; # num of words with a valid vector in the sentence/review\n",
        "    for word in sentence.split(): # for each word in a review/sentence\n",
        "        if word in glove_words:\n",
        "            vector += model[word]\n",
        "            cnt_words += 1\n",
        "    if cnt_words != 0:\n",
        "        vector /= cnt_words\n",
        "    X_test_essay_avg_w2v_vectors.append(vector)\n",
        "\n",
        "print(len(X_test_essay_avg_w2v_vectors))\n",
        "print(len(X_test_essay_avg_w2v_vectors[0]))\n",
        "# print(X_test_essay_avg_w2v_vectors[0])"
      ],
      "execution_count": 0,
      "outputs": [
        {
          "output_type": "stream",
          "text": [
            "100%|██████████| 16500/16500 [00:07<00:00, 2307.07it/s]"
          ],
          "name": "stderr"
        },
        {
          "output_type": "stream",
          "text": [
            "16500\n",
            "300\n"
          ],
          "name": "stdout"
        },
        {
          "output_type": "stream",
          "text": [
            "\n"
          ],
          "name": "stderr"
        }
      ]
    },
    {
      "cell_type": "code",
      "metadata": {
        "id": "jH9Y3xszs1bp",
        "colab_type": "code",
        "outputId": "6ab809c9-3562-4cf3-b51f-a362cdbbc2b1",
        "colab": {
          "base_uri": "https://localhost:8080/",
          "height": 87
        }
      },
      "source": [
        "from scipy.sparse import hstack\n",
        "X3_tr = hstack((x_train_clean_categories_ohe,x_train_clean_subcat_ohe,x_train_teacher_ohe,x_train_state_ohe,\\\n",
        "                x_train_grade_ohe,x_train_price_std,x_train_projects_std,x_train_qty_std,x_train_avg_w2v_vectors,x_train_essay_avg_w2v_vectors)).tocsr()\n",
        "X3_cv = hstack((X_cv_clean_categories_ohe,X_cv_clean_subcat_ohe,X_cv_teacher_ohe,X_cv_state_ohe,X_cv_grade_ohe,\\\n",
        "                X_cv_price_std,X_cv_projects_std,X_cv_qty_std,X_cv_avg_w2v_vectors,X_cv_essay_avg_w2v_vectors)).tocsr()\n",
        "X3_te =hstack((X_test_clean_categories_ohe,X_test_clean_subcat_ohe,X_test_teacher_ohe,X_test_state_ohe,\\\n",
        "               X_test_grade_ohe,X_test_price_std,X_test_projects_std,X_test_qty_std,X_test_avg_w2v_vectors,X_test_essay_avg_w2v_vectors)).tocsr()\n",
        "\n",
        "\n",
        "print(\"The final Data Matrix for Set:3\" , \" All the shapes of the data represent the merged features as mentioned in the tittle\")\n",
        "print(\"shape of X_train is : \",            X3_tr.shape)\n",
        "print(\"shape of X_Cross validation is :\" , X3_cv.shape)\n",
        "print(\"shape of X_test is \",               X3_te.shape)"
      ],
      "execution_count": 0,
      "outputs": [
        {
          "output_type": "stream",
          "text": [
            "The final Data Matrix for Set:3  All the shapes of the data represent the merged features as mentioned in the tittle\n",
            "shape of X_train is :  (37700, 703)\n",
            "shape of X_Cross validation is : (11055, 703)\n",
            "shape of X_test is  (16500, 703)\n"
          ],
          "name": "stdout"
        }
      ]
    },
    {
      "cell_type": "code",
      "metadata": {
        "id": "eXyL4zL8zgGC",
        "colab_type": "code",
        "colab": {}
      },
      "source": [
        "def batch_predict(clf, data):\n",
        "  y2_data_pred = []\n",
        "  tr_loop = data.shape[0] - data.shape[0]%1000\n",
        "  # consider you X_tr shape is 49041, then your tr_loop will be 49041 - 49041%1000 = 49000\n",
        "  # in this for loop we will iterate unti the last 1000 multiplier\n",
        "  for i in range(0, tr_loop, 1000):\n",
        "      y2_data_pred.extend(clf.predict_proba(data[i:i+1000])[:,1])\n",
        "  # we will be predicting for the last data points\n",
        "  if data.shape[0]%1000 !=0:\n",
        "      y2_data_pred.extend(clf.predict_proba(data[tr_loop:])[:,1])\n",
        "\n",
        "  return y2_data_pred"
      ],
      "execution_count": 0,
      "outputs": []
    },
    {
      "cell_type": "code",
      "metadata": {
        "id": "_-CQY147zrV5",
        "colab_type": "code",
        "outputId": "770e8cb2-a35a-488b-ea74-db91b415fc2a",
        "colab": {
          "base_uri": "https://localhost:8080/",
          "height": 333
        }
      },
      "source": [
        "import matplotlib.pyplot as plt\n",
        "from sklearn.neighbors import KNeighborsClassifier\n",
        "from sklearn.metrics import roc_auc_score\n",
        "\n",
        "train_auc2 = []\n",
        "cv_auc2 = []\n",
        "K = [3, 15, 25, 51, 101]\n",
        "for i in tqdm(K):\n",
        "    neigh = KNeighborsClassifier(n_neighbors=i, n_jobs=-1)\n",
        "    neigh.fit(X3_tr, y_train)\n",
        "\n",
        "    y2_train_pred = batch_predict(neigh, X3_tr)    \n",
        "    y2_cv_pred = batch_predict(neigh, X3_cv)\n",
        "\n",
        "    # roc_auc_score(y_tr, y_score) the 2nd parameter should be probability estimates of the positive class\n",
        "    # not the predicted outputs        \n",
        "    train_auc2.append(roc_auc_score(y_train,y2_train_pred))\n",
        "    cv_auc2.append(roc_auc_score(Y_cv, y2_cv_pred))\n",
        "\n",
        "plt.plot(K, train_auc2, label='Train AUC')\n",
        "plt.plot(K, cv_auc2, label='CV AUC')\n",
        "\n",
        "plt.scatter(K, train_auc2, label='Train AUC points')\n",
        "plt.scatter(K, cv_auc2, label='CV AUC points')\n",
        "\n",
        "plt.legend()\n",
        "plt.xlabel(\"K: hyperparameter\")\n",
        "plt.ylabel(\"AUC\")\n",
        "plt.title(\"ERROR PLOTS\")\n",
        "plt.grid(color='black', linestyle='-', linewidth=1)\n",
        "plt.show()"
      ],
      "execution_count": 0,
      "outputs": [
        {
          "output_type": "stream",
          "text": [
            "100%|██████████| 5/5 [4:07:55<00:00, 2959.80s/it]\n"
          ],
          "name": "stderr"
        },
        {
          "output_type": "display_data",
          "data": {
            "image/png": "[encoded data removed]",
            "text/plain": [
              "<Figure size 432x288 with 1 Axes>"
            ]
          },
          "metadata": {
            "tags": []
          }
        }
      ]
    },
    {
      "cell_type": "markdown",
      "metadata": {
        "id": "lJqWtuX1q5or",
        "colab_type": "text"
      },
      "source": [
        "\n",
        "1.   The error plot above representes the Train AUC and CV AUC Curve,      wherein we choose K(hyperparameter value) such that,it will be the  maximum AUC on cv data and distance between the train-data line(\"Blue\") and CV-line(\"orange\") results be to minimum.\n",
        "2.   The best value of k is found to be 101\n",
        "3.   Here I have used the \"AUCROC\" curve for choosing the best hypermeter as the data is imbalanced(though i have balanced it) , the \"AUCROC\" curve considers both the class labels equally . \n",
        "4.   The other hyperparameter tuning techiniques can also be choosen as \"CV\" and \"K-fold CV\""
      ]
    },
    {
      "cell_type": "code",
      "metadata": {
        "id": "eJq86KLA6qO5",
        "colab_type": "code",
        "colab": {}
      },
      "source": [
        "best_k1 = 101"
      ],
      "execution_count": 0,
      "outputs": []
    },
    {
      "cell_type": "code",
      "metadata": {
        "id": "NltWxOok6v9n",
        "colab_type": "code",
        "outputId": "6d663c7b-b286-40e1-dcfd-c434d44e24cb",
        "colab": {
          "base_uri": "https://localhost:8080/",
          "height": 315
        }
      },
      "source": [
        "# https://scikit-learn.org/stable/modules/generated/sklearn.metrics.roc_curve.html#sklearn.metrics.roc_curve\n",
        "from sklearn.metrics import roc_curve, auc\n",
        "\n",
        "\n",
        "neigh = KNeighborsClassifier(n_neighbors=best_k1, n_jobs=-1)\n",
        "neigh.fit(X3_tr, y_train)\n",
        "# roc_auc_score(y_true, y_score) the 2nd parameter should be probability estimates of the positive class\n",
        "# not the predicted outputs\n",
        "\n",
        "y3_train_pred = batch_predict(neigh, X3_tr)    \n",
        "y3_test_pred = batch_predict(neigh, X3_te)\n",
        "\n",
        "train2_fpr, train2_tpr, tr2_thresholds = roc_curve(y_train, y3_train_pred)\n",
        "test2_fpr, test2_tpr, te2_thresholds = roc_curve(Y_test, y3_test_pred)\n",
        "\n",
        "plt.plot(train2_fpr, train2_tpr, label=\"Tain AUC =\"+str(auc(train2_fpr, train2_tpr)))\n",
        "plt.plot(test2_fpr, test2_tpr, label=\"Test AUC =\"+str(auc(test2_fpr, test2_tpr)))\n",
        "plt.legend()\n",
        "plt.xlabel(\"Fasle Postive Rate\")\n",
        "plt.ylabel(\"True Pstive RAte\")\n",
        "plt.title(\"ROC_AUC Curve\")\n",
        "plt.grid(color='black', linestyle='-', linewidth=1)\n",
        "plt.show()"
      ],
      "execution_count": 0,
      "outputs": [
        {
          "output_type": "display_data",
          "data": {
            "image/png": "[encoded data removed]",
            "text/plain": [
              "<Figure size 432x288 with 1 Axes>"
            ]
          },
          "metadata": {
            "tags": []
          }
        }
      ]
    },
    {
      "cell_type": "markdown",
      "metadata": {
        "id": "PB91ytGqq9BV",
        "colab_type": "text"
      },
      "source": [
        "**Conclusion for SET : 3**\n",
        "\n",
        "1.   The above Represents the TRP and FPR rates on the either axis and this curve is know as the AUCROC curve , it is a metrix to evaluate the performance of the model. \n",
        "2.   As teh grap represents here the  Train Auc = 0.67 , so from this we can conclude that the model is predecting the values with 67 % probabilty.\n"
      ]
    },
    {
      "cell_type": "code",
      "metadata": {
        "id": "1b3YdBwwk4fq",
        "colab_type": "code",
        "colab": {}
      },
      "source": [
        "#this is the custom function for predecting the best thershold and sorting the values according the threshould \n",
        "def find_best_threshold(threshould, fpr, tpr):\n",
        "    t = threshould[np.argmax(tpr*(1-fpr))]\n",
        "    # (tpr*(1-fpr)) will be maximum if your fpr is very low and tpr is very high\n",
        "    print(\"the maximum value of tpr*(1-fpr)\", max(tpr*(1-fpr)), \"for threshold\", np.round(t,3))\n",
        "    return t"
      ],
      "execution_count": 0,
      "outputs": []
    },
    {
      "cell_type": "code",
      "metadata": {
        "id": "0Wp515BXk6vE",
        "colab_type": "code",
        "colab": {}
      },
      "source": [
        "def predict_with_best_t(proba, threshould):\n",
        "    predictions = []\n",
        "    for i in proba:\n",
        "        if i>=threshould:\n",
        "            predictions.append(1)\n",
        "        else:\n",
        "            predictions.append(0)\n",
        "    return predictions"
      ],
      "execution_count": 0,
      "outputs": []
    },
    {
      "cell_type": "code",
      "metadata": {
        "id": "aQvZh3emk8mv",
        "colab_type": "code",
        "outputId": "03e0dc88-a8d9-4031-84fb-fc3ea0c09d3d",
        "colab": {
          "base_uri": "https://localhost:8080/",
          "height": 349
        }
      },
      "source": [
        "print(\"=\"*100)\n",
        "from sklearn.metrics import confusion_matrix\n",
        "best_t = find_best_threshold(tr2_thresholds, train2_fpr, train2_tpr)\n",
        "Confusion_metrix_Train_data = pd.DataFrame(confusion_matrix(y_train, predict_with_best_t(y3_train_pred, best_t)))\n",
        "Confusion_metrix_Test_data = pd.DataFrame(confusion_matrix(Y_test, predict_with_best_t(y3_test_pred, best_t)))\n",
        "import seaborn as sns\n",
        "sns.set(font_scale=1.4)#for label size\n",
        "print(\"The Confusion metrix of train data\")\n",
        "sns.heatmap(Confusion_metrix_Train_data,annot=True, annot_kws={\"size\": 20},fmt =\"g\")\n"
      ],
      "execution_count": 0,
      "outputs": [
        {
          "output_type": "stream",
          "text": [
            "====================================================================================================\n",
            "the maximum value of tpr*(1-fpr) 0.39373697978596905 for threshold 0.495\n",
            "The Confusion metrix of train data\n"
          ],
          "name": "stdout"
        },
        {
          "output_type": "execute_result",
          "data": {
            "text/plain": [
              "<matplotlib.axes._subplots.AxesSubplot at 0x7fd41c69f828>"
            ]
          },
          "metadata": {
            "tags": []
          },
          "execution_count": 86
        },
        {
          "output_type": "display_data",
          "data": {
            "image/png": "[encoded data removed]",
            "text/plain": [
              "<Figure size 432x288 with 2 Axes>"
            ]
          },
          "metadata": {
            "tags": []
          }
        }
      ]
    },
    {
      "cell_type": "code",
      "metadata": {
        "id": "gdt5IOlHPeN4",
        "colab_type": "code",
        "outputId": "cf3e6f0b-d663-4eda-88d4-f86f2fdc3894",
        "colab": {
          "base_uri": "https://localhost:8080/",
          "height": 314
        }
      },
      "source": [
        "print(\"The Confusion metrix of test data \")\n",
        "sns.heatmap(Confusion_metrix_Test_data,annot=True, annot_kws={\"size\": 20},fmt =\"g\")"
      ],
      "execution_count": 0,
      "outputs": [
        {
          "output_type": "stream",
          "text": [
            "The Confusion metrix of test data \n"
          ],
          "name": "stdout"
        },
        {
          "output_type": "execute_result",
          "data": {
            "text/plain": [
              "<matplotlib.axes._subplots.AxesSubplot at 0x7fd41ea842b0>"
            ]
          },
          "metadata": {
            "tags": []
          },
          "execution_count": 87
        },
        {
          "output_type": "display_data",
          "data": {
            "image/png": "[encoded data removed]",
            "text/plain": [
              "<Figure size 432x288 with 2 Axes>"
            ]
          },
          "metadata": {
            "tags": []
          }
        }
      ]
    },
    {
      "cell_type": "markdown",
      "metadata": {
        "id": "BQZqpY0XrAXe",
        "colab_type": "text"
      },
      "source": [
        "1.   The Ouput Stated above represents the maximun value of TRP (i.e tpr*(1-fpr) \"0.401\" corrosponding to whcih the maximum thershold is 0.48 .\n",
        "2.   The Second output represnts the Confusion metrix Based on the thershold of 0.48 ,  which states that the values below the thershold of 0.48 are classified as 0 and the values above 0.48 are classified as 1."
      ]
    },
    {
      "cell_type": "markdown",
      "metadata": {
        "id": "kX6DftFP5tIJ",
        "colab_type": "text"
      },
      "source": [
        "### 3.4 **Set 4**: Categorical, Numerical features + Project_title(TFIDF W2V)+ Preprocessed_essay (TFIDF W2V)"
      ]
    },
    {
      "cell_type": "code",
      "metadata": {
        "id": "wsyFggoz5pl_",
        "colab_type": "code",
        "colab": {}
      },
      "source": [
        "# TFIDF W2V of x_train \"essays\"\n",
        "x_train_tfidf_model = TfidfVectorizer()\n",
        "x_train_tfidf_model.fit(x_train[\"essay\"])\n",
        "# we are converting a dictionary with word as a key, and the idf as a value\n",
        "dictionary = dict(zip(x_train_tfidf_model.get_feature_names(), list(x_train_tfidf_model.idf_)))\n",
        "tfidf_words = set(x_train_tfidf_model.get_feature_names())"
      ],
      "execution_count": 0,
      "outputs": []
    },
    {
      "cell_type": "code",
      "metadata": {
        "id": "8sF36LPb8CCF",
        "colab_type": "code",
        "outputId": "644fec70-13de-4761-ac5e-0e70798e2406",
        "colab": {
          "base_uri": "https://localhost:8080/",
          "height": 69
        }
      },
      "source": [
        "x_train1_tfidf_model = []; # the avg-w2v for each sentence/review is stored in this list\n",
        "for sentence in tqdm(x_train['essay'].values): # for each review/sentence\n",
        "    vector = np.zeros(300) # as word vectors are of zero length\n",
        "    tf_idf_weight =0; # num of words with a valid vector in the sentence/review\n",
        "    for word in sentence.split(): # for each word in a review/sentence\n",
        "        if (word in glove_words) and (word in tfidf_words):\n",
        "            vec = model[word] # getting the vector for each word\n",
        "            # here we are multiplying idf value(dictionary[word]) and the tf value((sentence.count(word)/len(sentence.split())))\n",
        "            tf_idf = dictionary[word]*(sentence.count(word)/len(sentence.split())) # getting the tfidf value for each word\n",
        "            vector += (vec * tf_idf) # calculating tfidf weighted w2v\n",
        "            tf_idf_weight += tf_idf\n",
        "    if tf_idf_weight != 0:\n",
        "        vector /= tf_idf_weight\n",
        "    x_train1_tfidf_model.append(vector)\n",
        "\n",
        "print(len(x_train1_tfidf_model))\n",
        "print(len(x_train1_tfidf_model[0]))"
      ],
      "execution_count": 0,
      "outputs": [
        {
          "output_type": "stream",
          "text": [
            "100%|██████████| 37700/37700 [02:25<00:00, 258.98it/s]"
          ],
          "name": "stderr"
        },
        {
          "output_type": "stream",
          "text": [
            "37700\n",
            "300\n"
          ],
          "name": "stdout"
        },
        {
          "output_type": "stream",
          "text": [
            "\n"
          ],
          "name": "stderr"
        }
      ]
    },
    {
      "cell_type": "code",
      "metadata": {
        "id": "5bA55cCeBXlU",
        "colab_type": "code",
        "outputId": "64ba1daf-7453-4269-8190-b06508a9f5b0",
        "colab": {
          "base_uri": "https://localhost:8080/",
          "height": 69
        }
      },
      "source": [
        "# TFIDF W2V of X_CV \"essays\" \n",
        "# here alos we will fit in the train data only as we dont want our data to be leacked  \n",
        "X_cv_tfidf_model = []; # the avg-w2v for each sentence/review is stored in this list\n",
        "for sentence in tqdm(X_cv['essay'].values): # for each review/sentence\n",
        "    vector = np.zeros(300) # as word vectors are of zero length\n",
        "    tf_idf_weight =0; # num of words with a valid vector in the sentence/review\n",
        "    for word in sentence.split(): # for each word in a review/sentence\n",
        "        if (word in glove_words) and (word in tfidf_words):\n",
        "            vec = model[word] # getting the vector for each word\n",
        "            # here we are multiplying idf value(dictionary[word]) and the tf value((sentence.count(word)/len(sentence.split())))\n",
        "            tf_idf = dictionary[word]*(sentence.count(word)/len(sentence.split())) # getting the tfidf value for each word\n",
        "            vector += (vec * tf_idf) # calculating tfidf weighted w2v\n",
        "            tf_idf_weight += tf_idf\n",
        "    if tf_idf_weight != 0:\n",
        "        vector /= tf_idf_weight\n",
        "    X_cv_tfidf_model.append(vector)\n",
        "\n",
        "print(len(X_cv_tfidf_model))\n",
        "print(len(X_cv_tfidf_model[0]))"
      ],
      "execution_count": 0,
      "outputs": [
        {
          "output_type": "stream",
          "text": [
            "100%|██████████| 11055/11055 [00:44<00:00, 275.15it/s]"
          ],
          "name": "stderr"
        },
        {
          "output_type": "stream",
          "text": [
            "11055\n",
            "300\n"
          ],
          "name": "stdout"
        },
        {
          "output_type": "stream",
          "text": [
            "\n"
          ],
          "name": "stderr"
        }
      ]
    },
    {
      "cell_type": "code",
      "metadata": {
        "id": "_cnZJwTbE84C",
        "colab_type": "code",
        "outputId": "7ffa2f57-a0ab-4714-f5d8-49ed4554234e",
        "colab": {
          "base_uri": "https://localhost:8080/",
          "height": 69
        }
      },
      "source": [
        "X_test_tfidf_model = []; # the avg-w2v for each sentence/review is stored in this list\n",
        "for sentence in tqdm(X_test['essay'].values): # for each review/sentence\n",
        "    vector = np.zeros(300) # as word vectors are of zero length\n",
        "    tf_idf_weight =0; # num of words with a valid vector in the sentence/review\n",
        "    for word in sentence.split(): # for each word in a review/sentence\n",
        "        if (word in glove_words) and (word in tfidf_words):\n",
        "            vec = model[word] # getting the vector for each word\n",
        "            # here we are multiplying idf value(dictionary[word]) and the tf value((sentence.count(word)/len(sentence.split())))\n",
        "            tf_idf = dictionary[word]*(sentence.count(word)/len(sentence.split())) # getting the tfidf value for each word\n",
        "            vector += (vec * tf_idf) # calculating tfidf weighted w2v\n",
        "            tf_idf_weight += tf_idf\n",
        "    if tf_idf_weight != 0:\n",
        "        vector /= tf_idf_weight\n",
        "    X_test_tfidf_model.append(vector)\n",
        "\n",
        "print(len(X_test_tfidf_model))\n",
        "print(len(X_test_tfidf_model[0]))"
      ],
      "execution_count": 0,
      "outputs": [
        {
          "output_type": "stream",
          "text": [
            "100%|██████████| 16500/16500 [01:06<00:00, 247.71it/s]"
          ],
          "name": "stderr"
        },
        {
          "output_type": "stream",
          "text": [
            "16500\n",
            "300\n"
          ],
          "name": "stdout"
        },
        {
          "output_type": "stream",
          "text": [
            "\n"
          ],
          "name": "stderr"
        }
      ]
    },
    {
      "cell_type": "code",
      "metadata": {
        "id": "iHohO7KJFKfI",
        "colab_type": "code",
        "colab": {}
      },
      "source": [
        "# TFIDF W2V of x_train \"essays\"\n",
        "x_train_tfidf_model1 = TfidfVectorizer()\n",
        "x_train_tfidf_model1.fit(x_train[\"clean_titles\"])\n",
        "# we are converting a dictionary with word as a key, and the idf as a value\n",
        "dictionary = dict(zip(x_train_tfidf_model1.get_feature_names(), list(x_train_tfidf_model.idf_)))\n",
        "tfidf_words = set(x_train_tfidf_model1.get_feature_names())"
      ],
      "execution_count": 0,
      "outputs": []
    },
    {
      "cell_type": "code",
      "metadata": {
        "id": "LWDvPNBuFTQp",
        "colab_type": "code",
        "outputId": "b5b5656a-b9b8-4794-84cd-a5b8917b21a1",
        "colab": {
          "base_uri": "https://localhost:8080/",
          "height": 69
        }
      },
      "source": [
        "x_train_tfidf_clean_titles_model = []; # the avg-w2v for each sentence/review is stored in this list\n",
        "for sentence in tqdm(x_train['clean_titles'].values): # for each review/sentence\n",
        "    vector = np.zeros(300) # as word vectors are of zero length\n",
        "    tf_idf_weight =0; # num of words with a valid vector in the sentence/review\n",
        "    for word in sentence.split(): # for each word in a review/sentence\n",
        "        if (word in glove_words) and (word in tfidf_words):\n",
        "            vec = model[word] # getting the vector for each word\n",
        "            # here we are multiplying idf value(dictionary[word]) and the tf value((sentence.count(word)/len(sentence.split())))\n",
        "            tf_idf = dictionary[word]*(sentence.count(word)/len(sentence.split())) # getting the tfidf value for each word\n",
        "            vector += (vec * tf_idf) # calculating tfidf weighted w2v\n",
        "            tf_idf_weight += tf_idf\n",
        "    if tf_idf_weight != 0:\n",
        "        vector /= tf_idf_weight\n",
        "    x_train_tfidf_clean_titles_model.append(vector)\n",
        "\n",
        "print(len(x_train_tfidf_clean_titles_model))\n",
        "print(len(x_train_tfidf_clean_titles_model[0]))"
      ],
      "execution_count": 0,
      "outputs": [
        {
          "output_type": "stream",
          "text": [
            "100%|██████████| 37700/37700 [00:01<00:00, 21114.92it/s]"
          ],
          "name": "stderr"
        },
        {
          "output_type": "stream",
          "text": [
            "37700\n",
            "300\n"
          ],
          "name": "stdout"
        },
        {
          "output_type": "stream",
          "text": [
            "\n"
          ],
          "name": "stderr"
        }
      ]
    },
    {
      "cell_type": "code",
      "metadata": {
        "id": "kWwjDYP2F1UV",
        "colab_type": "code",
        "outputId": "a7555842-3b4d-4060-e1cf-22969546daff",
        "colab": {
          "base_uri": "https://localhost:8080/",
          "height": 69
        }
      },
      "source": [
        "X_cv_tfidf_clean_titles_model = []; # the avg-w2v for each sentence/review is stored in this list\n",
        "for sentence in tqdm(X_cv['clean_titles'].values): # for each review/sentence\n",
        "    vector = np.zeros(300) # as word vectors are of zero length\n",
        "    tf_idf_weight =0; # num of words with a valid vector in the sentence/review\n",
        "    for word in sentence.split(): # for each word in a review/sentence\n",
        "        if (word in glove_words) and (word in tfidf_words):\n",
        "            vec = model[word] # getting the vector for each word\n",
        "            # here we are multiplying idf value(dictionary[word]) and the tf value((sentence.count(word)/len(sentence.split())))\n",
        "            tf_idf = dictionary[word]*(sentence.count(word)/len(sentence.split())) # getting the tfidf value for each word\n",
        "            vector += (vec * tf_idf) # calculating tfidf weighted w2v\n",
        "            tf_idf_weight += tf_idf\n",
        "    if tf_idf_weight != 0:\n",
        "        vector /= tf_idf_weight\n",
        "    X_cv_tfidf_clean_titles_model.append(vector)\n",
        "\n",
        "print(len(X_cv_tfidf_clean_titles_model))\n",
        "print(len(X_cv_tfidf_clean_titles_model[0]))"
      ],
      "execution_count": 0,
      "outputs": [
        {
          "output_type": "stream",
          "text": [
            "100%|██████████| 11055/11055 [00:00<00:00, 29339.00it/s]"
          ],
          "name": "stderr"
        },
        {
          "output_type": "stream",
          "text": [
            "11055\n",
            "300\n"
          ],
          "name": "stdout"
        },
        {
          "output_type": "stream",
          "text": [
            "\n"
          ],
          "name": "stderr"
        }
      ]
    },
    {
      "cell_type": "code",
      "metadata": {
        "id": "R2PKV4YpGO7R",
        "colab_type": "code",
        "outputId": "9857aeed-8b54-4937-9fda-5bc77b07f699",
        "colab": {
          "base_uri": "https://localhost:8080/",
          "height": 69
        }
      },
      "source": [
        "X_test_tfidf_clean_titles_model = []; # the avg-w2v for each sentence/review is stored in this list\n",
        "for sentence in tqdm(X_test['clean_titles'].values): # for each review/sentence\n",
        "    vector = np.zeros(300) # as word vectors are of zero length\n",
        "    tf_idf_weight =0; # num of words with a valid vector in the sentence/review\n",
        "    for word in sentence.split(): # for each word in a review/sentence\n",
        "        if (word in glove_words) and (word in tfidf_words):\n",
        "            vec = model[word] # getting the vector for each word\n",
        "            # here we are multiplying idf value(dictionary[word]) and the tf value((sentence.count(word)/len(sentence.split())))\n",
        "            tf_idf = dictionary[word]*(sentence.count(word)/len(sentence.split())) # getting the tfidf value for each word\n",
        "            vector += (vec * tf_idf) # calculating tfidf weighted w2v\n",
        "            tf_idf_weight += tf_idf\n",
        "    if tf_idf_weight != 0:\n",
        "        vector /= tf_idf_weight\n",
        "    X_test_tfidf_clean_titles_model.append(vector)\n",
        "\n",
        "print(len(X_test_tfidf_clean_titles_model))\n",
        "print(len(X_test_tfidf_clean_titles_model[0]))"
      ],
      "execution_count": 0,
      "outputs": [
        {
          "output_type": "stream",
          "text": [
            "100%|██████████| 16500/16500 [00:00<00:00, 30151.75it/s]"
          ],
          "name": "stderr"
        },
        {
          "output_type": "stream",
          "text": [
            "16500\n",
            "300\n"
          ],
          "name": "stdout"
        },
        {
          "output_type": "stream",
          "text": [
            "\n"
          ],
          "name": "stderr"
        }
      ]
    },
    {
      "cell_type": "code",
      "metadata": {
        "id": "08QMeE9TG1aG",
        "colab_type": "code",
        "outputId": "1203871c-2042-4e9e-913a-aafdabfed1ad",
        "colab": {
          "base_uri": "https://localhost:8080/",
          "height": 87
        }
      },
      "source": [
        "from scipy.sparse import hstack\n",
        "X4_tr = hstack((x_train_clean_categories_ohe,x_train_clean_subcat_ohe,x_train_teacher_ohe,x_train_state_ohe,\\\n",
        "                x_train_grade_ohe,x_train_price_std,x_train_projects_std,x_train_qty_std,x_train1_tfidf_model, x_train_tfidf_clean_titles_model)).tocsr()\n",
        "X4_cv = hstack((X_cv_clean_categories_ohe,X_cv_clean_subcat_ohe,X_cv_teacher_ohe,X_cv_state_ohe,X_cv_grade_ohe,\\\n",
        "                X_cv_price_std,X_cv_projects_std,X_cv_qty_std,X_cv_tfidf_model,X_cv_tfidf_clean_titles_model)).tocsr()\n",
        "X4_te =hstack((X_test_clean_categories_ohe,X_test_clean_subcat_ohe,X_test_teacher_ohe,X_test_state_ohe,\\\n",
        "               X_test_grade_ohe,X_test_price_std,X_test_projects_std,X_test_qty_std,X_test_tfidf_model,X_test_tfidf_clean_titles_model)).tocsr()\n",
        "\n",
        "\n",
        "print(\"The final Data Matrix for Set:4\" , \" All the shapes of the data represent the merged features as mentioned in the tittle\")\n",
        "print(\"shape of X_train is : \",            X4_tr.shape)\n",
        "print(\"shape of X_Cross validation is :\" , X4_cv.shape)\n",
        "print(\"shape of X_test is \",               X4_te.shape)"
      ],
      "execution_count": 0,
      "outputs": [
        {
          "output_type": "stream",
          "text": [
            "The final Data Matrix for Set:4  All the shapes of the data represent the merged features as mentioned in the tittle\n",
            "shape of X_train is :  (37700, 703)\n",
            "shape of X_Cross validation is : (11055, 703)\n",
            "shape of X_test is  (16500, 703)\n"
          ],
          "name": "stdout"
        }
      ]
    },
    {
      "cell_type": "code",
      "metadata": {
        "id": "ThgwTHmjG2Qq",
        "colab_type": "code",
        "colab": {}
      },
      "source": [
        "def batch_predict(clf, data):\n",
        "  y3_data_pred = []\n",
        "  tr_loop = data.shape[0] - data.shape[0]%1000\n",
        "  # consider you X_tr shape is 49041, then your tr_loop will be 49041 - 49041%1000 = 49000\n",
        "  # in this for loop we will iterate unti the last 1000 multiplier\n",
        "  for i in range(0, tr_loop, 1000):\n",
        "      y3_data_pred.extend(clf.predict_proba(data[i:i+1000])[:,1])\n",
        "  # we will be predicting for the last data points\n",
        "  if data.shape[0]%1000 !=0:\n",
        "      y3_data_pred.extend(clf.predict_proba(data[tr_loop:])[:,1])\n",
        "\n",
        "  return y3_data_pred"
      ],
      "execution_count": 0,
      "outputs": []
    },
    {
      "cell_type": "code",
      "metadata": {
        "id": "8Y864H_zl26w",
        "colab_type": "code",
        "outputId": "73fa115a-57e7-4ccd-85e5-2a5ad69a1b84",
        "colab": {
          "base_uri": "https://localhost:8080/",
          "height": 333
        }
      },
      "source": [
        "import matplotlib.pyplot as plt\n",
        "from sklearn.neighbors import KNeighborsClassifier\n",
        "from sklearn.metrics import roc_auc_score\n",
        "\n",
        "train_auc3 = []\n",
        "cv_auc3 = []\n",
        "K = [3, 15, 25, 51, 101]\n",
        "for i in tqdm(K):\n",
        "    neigh = KNeighborsClassifier(n_neighbors=i, n_jobs=-1)\n",
        "    neigh.fit(X4_tr, y_train)\n",
        "\n",
        "    y3_train_pred = batch_predict(neigh, X4_tr)    \n",
        "    y3_cv_pred = batch_predict(neigh, X4_cv)\n",
        "\n",
        "    # roc_auc_score(y_tr, y_score) the 2nd parameter should be probability estimates of the positive class\n",
        "    # not the predicted outputs        \n",
        "    train_auc3.append(roc_auc_score(y_train,y3_train_pred))\n",
        "    cv_auc3.append(roc_auc_score(Y_cv, y3_cv_pred))\n",
        "\n",
        "plt.plot(K, train_auc3, label='Train AUC')\n",
        "plt.plot(K, cv_auc3, label='CV AUC')\n",
        "\n",
        "plt.scatter(K, train_auc3, label='Train AUC points')\n",
        "plt.scatter(K, cv_auc3, label='CV AUC points')\n",
        "\n",
        "plt.legend()\n",
        "plt.xlabel(\"K: hyperparameter\")\n",
        "plt.ylabel(\"AUC\")\n",
        "plt.title(\"ERROR PLOTS\")\n",
        "plt.grid(color='black', linestyle='-', linewidth=1)\n",
        "plt.show()"
      ],
      "execution_count": 0,
      "outputs": [
        {
          "output_type": "stream",
          "text": [
            "100%|██████████| 5/5 [3:55:56<00:00, 2832.93s/it]\n"
          ],
          "name": "stderr"
        },
        {
          "output_type": "display_data",
          "data": {
            "image/png": "[encoded data removed]",
            "text/plain": [
              "<Figure size 432x288 with 1 Axes>"
            ]
          },
          "metadata": {
            "tags": []
          }
        }
      ]
    },
    {
      "cell_type": "markdown",
      "metadata": {
        "id": "lIGqX7tSrGZH",
        "colab_type": "text"
      },
      "source": [
        "1.   The error plot above representes the Train AUC and CV AUC Curve,      wherein we choose K(hyperparameter value) such that,it will be the  maximum AUC on cv data and distance between the train-data line(\"Blue\") and CV-line(\"orange\") results be to minimum.\n",
        "2.   The best value of k is found to be 102\n",
        "3.   Here I have used the \"AUCROC\" curve for choosing the best hypermeter as the data is imbalanced(though i have balanced it) , the \"AUCROC\" curve considers both the class labels equally . \n",
        "4.   The other hyperparameter tuning techiniques can also be choosen as \"CV\" and \"K-fold CV\""
      ]
    },
    {
      "cell_type": "code",
      "metadata": {
        "id": "mXWjSJYVmjZX",
        "colab_type": "code",
        "colab": {}
      },
      "source": [
        "best_k2= 101"
      ],
      "execution_count": 0,
      "outputs": []
    },
    {
      "cell_type": "code",
      "metadata": {
        "id": "NJXnD46Vmnmt",
        "colab_type": "code",
        "outputId": "492483e9-eedb-4e13-e340-3e36582d1a45",
        "colab": {
          "base_uri": "https://localhost:8080/",
          "height": 315
        }
      },
      "source": [
        "# https://scikit-learn.org/stable/modules/generated/sklearn.metrics.roc_curve.html#sklearn.metrics.roc_curve\n",
        "from sklearn.metrics import roc_curve, auc\n",
        "\n",
        "\n",
        "neigh = KNeighborsClassifier(n_neighbors=best_k2, n_jobs=-1)\n",
        "neigh.fit(X4_tr, y_train)\n",
        "# roc_auc_score(y_true, y_score) the 2nd parameter should be probability estimates of the positive class\n",
        "# not the predicted outputs\n",
        "\n",
        "y4_train_pred = batch_predict(neigh, X4_tr)    \n",
        "y4_test_pred = batch_predict(neigh, X4_te)\n",
        "\n",
        "train3_fpr, train3_tpr, tr3_thresholds = roc_curve(y_train, y4_train_pred)\n",
        "test3_fpr, test3_tpr, te3_thresholds = roc_curve(Y_test, y4_test_pred)\n",
        "\n",
        "plt.plot(train3_fpr, train3_tpr, label=\"Tain AUC =\"+str(auc(train3_fpr, train3_tpr)))\n",
        "plt.plot(test3_fpr, test3_tpr, label=\"Test AUC =\"+str(auc(test3_fpr, test3_tpr)))\n",
        "plt.legend()\n",
        "plt.xlabel(\"Fasle Postive Rate\")\n",
        "plt.ylabel(\"True Pstive RAte\")\n",
        "plt.title(\"ROC_AUC Curve\")\n",
        "plt.grid(color='black', linestyle='-', linewidth=1)\n",
        "plt.show()"
      ],
      "execution_count": 0,
      "outputs": [
        {
          "output_type": "display_data",
          "data": {
            "image/png": "[encoded data removed]",
            "text/plain": [
              "<Figure size 432x288 with 1 Axes>"
            ]
          },
          "metadata": {
            "tags": []
          }
        }
      ]
    },
    {
      "cell_type": "markdown",
      "metadata": {
        "id": "San_xcRerJm4",
        "colab_type": "text"
      },
      "source": [
        "\n",
        "**Conclusion for SET : 4**\n",
        "\n",
        "1.   The above Represents the TRP and FPR rates on the either axis and this curve is know as the AUCROC curve , it is a metrix to evaluate the performance of the model. \n",
        "2.   As teh grap represents here the  Train Auc = 0.67 , so from this we can conclude that the model is predecting the values with 67 % probabilty."
      ]
    },
    {
      "cell_type": "code",
      "metadata": {
        "id": "0U_geeYbg8tk",
        "colab_type": "code",
        "colab": {}
      },
      "source": [
        "#this is the custom function for predecting the best thershold and sorting the values according the threshould \n",
        "def find_best_threshold(threshould, fpr, tpr):\n",
        "    t = threshould[np.argmax(tpr*(1-fpr))]\n",
        "    # (tpr*(1-fpr)) will be maximum if your fpr is very low and tpr is very high\n",
        "    print(\"the maximum value of tpr*(1-fpr)\", max(tpr*(1-fpr)), \"for threshold\", np.round(t,3))\n",
        "    return t"
      ],
      "execution_count": 0,
      "outputs": []
    },
    {
      "cell_type": "code",
      "metadata": {
        "id": "o5JgL8tYlj-U",
        "colab_type": "code",
        "colab": {}
      },
      "source": [
        "\n",
        "def predict_with_best_t(proba, threshould):\n",
        "    predictions = []\n",
        "    for i in proba:\n",
        "        if i>=threshould:\n",
        "            predictions.append(1)\n",
        "        else:\n",
        "            predictions.append(0)\n",
        "    return predictions"
      ],
      "execution_count": 0,
      "outputs": []
    },
    {
      "cell_type": "code",
      "metadata": {
        "id": "LBx8VWOYlnUo",
        "colab_type": "code",
        "outputId": "6eb77a44-2293-4e40-c7a9-7b9a00c66311",
        "colab": {
          "base_uri": "https://localhost:8080/",
          "height": 349
        }
      },
      "source": [
        "print(\"=\"*100)\n",
        "from sklearn.metrics import confusion_matrix\n",
        "best_t = find_best_threshold(tr3_thresholds, train3_fpr, train3_tpr)\n",
        "Confusion_metrix_Train_data = pd.DataFrame(confusion_matrix(y_train, predict_with_best_t(y4_train_pred, best_t)))\n",
        "Confusion_metrix_Test_data = pd.DataFrame(confusion_matrix(Y_test, predict_with_best_t(y4_test_pred, best_t)))\n",
        "import seaborn as sns\n",
        "sns.set(font_scale=1.4)#for label size\n",
        "print(\"The Confusion metrix of train data\")\n",
        "sns.heatmap(Confusion_metrix_Train_data,annot=True, annot_kws={\"size\": 20},fmt =\"g\")"
      ],
      "execution_count": 0,
      "outputs": [
        {
          "output_type": "stream",
          "text": [
            "====================================================================================================\n",
            "the maximum value of tpr*(1-fpr) 0.39602255697289085 for threshold 0.495\n",
            "The Confusion metrix of train data\n"
          ],
          "name": "stdout"
        },
        {
          "output_type": "execute_result",
          "data": {
            "text/plain": [
              "<matplotlib.axes._subplots.AxesSubplot at 0x7fd41dca4f28>"
            ]
          },
          "metadata": {
            "tags": []
          },
          "execution_count": 103
        },
        {
          "output_type": "display_data",
          "data": {
            "image/png": "[encoded data removed]",
            "text/plain": [
              "<Figure size 432x288 with 2 Axes>"
            ]
          },
          "metadata": {
            "tags": []
          }
        }
      ]
    },
    {
      "cell_type": "code",
      "metadata": {
        "id": "vQuXfPpnPpo0",
        "colab_type": "code",
        "outputId": "dc155139-5147-4a9e-a9d4-9213a24115fd",
        "colab": {
          "base_uri": "https://localhost:8080/",
          "height": 314
        }
      },
      "source": [
        "print(\"The Confusion metrix of test data \")\n",
        "sns.heatmap(Confusion_metrix_Test_data,annot=True, annot_kws={\"size\": 20},fmt =\"g\")"
      ],
      "execution_count": 0,
      "outputs": [
        {
          "output_type": "stream",
          "text": [
            "The Confusion metrix of test data \n"
          ],
          "name": "stdout"
        },
        {
          "output_type": "execute_result",
          "data": {
            "text/plain": [
              "<matplotlib.axes._subplots.AxesSubplot at 0x7fd41e1ec630>"
            ]
          },
          "metadata": {
            "tags": []
          },
          "execution_count": 104
        },
        {
          "output_type": "display_data",
          "data": {
            "image/png": "[encoded data removed]",
            "text/plain": [
              "<Figure size 432x288 with 2 Axes>"
            ]
          },
          "metadata": {
            "tags": []
          }
        }
      ]
    },
    {
      "cell_type": "markdown",
      "metadata": {
        "id": "4_nJu_EwrMaF",
        "colab_type": "text"
      },
      "source": [
        "1.   The Ouput Stated above represents the maximun value of TRP (i.e tpr*(1-fpr) \"0.3939\" corrosponding to whcih the maximum thershold is 0.45 .\n",
        "2.   The Second output represnts the Confusion metrix Based on the thershold of 0.45 ,  which states that the values below the thershold of 0.45 are classified as 0 and the values above 0.48 are classified as 1."
      ]
    },
    {
      "cell_type": "markdown",
      "metadata": {
        "id": "FWb169bWopGo",
        "colab_type": "text"
      },
      "source": [
        "## 3.5  Applying the SelectKBest for selecting the Top best 2000 features on the set2 of the Data matrix **bold text**"
      ]
    },
    {
      "cell_type": "markdown",
      "metadata": {
        "id": "rqRUIXIYrHgq",
        "colab_type": "text"
      },
      "source": [
        "This data metrix consits of Set 2: Categorical, Numerical features + Project_title(TFIDF)+ Preprocessed_essay (TFIDF)"
      ]
    },
    {
      "cell_type": "code",
      "metadata": {
        "id": "TaF-DE6QooP3",
        "colab_type": "code",
        "outputId": "01c69ead-31e5-4568-8f98-ada214db94bb",
        "colab": {
          "base_uri": "https://localhost:8080/",
          "height": 104
        }
      },
      "source": [
        "# Preprocessed_essay (TFIDF) and selcting the best 2000 Features using the  SelectKBest, chi2\n",
        "%%time\n",
        "from sklearn.feature_extraction.text import TfidfVectorizer\n",
        "from sklearn.feature_selection import SelectKBest, chi2\n",
        "vectorizer = TfidfVectorizer(min_df=10)\n",
        "vectorizer.fit(x_train['essay'].values) # fit has to happen only on train data\n",
        "\n",
        "# we use the fitted CountVectorizer to convert the text to vector\n",
        "x_train_essay_tfidf = vectorizer.transform(x_train['essay'].values)\n",
        "X_cv_essay_tfidf = vectorizer.transform(X_cv['essay'].values)\n",
        "X_test_essay_tfidf = vectorizer.transform(X_test['essay'].values)\n",
        "\n",
        "\n",
        "#Selecting top 2000 best features from the generated tfidf features\n",
        "selector = SelectKBest(chi2, k = 2000 )\n",
        "selector.fit(x_train_essay_tfidf,y_train)\n",
        "x_train_essay_2000 = selector.transform(x_train_essay_tfidf)\n",
        "X_cv_essay_2000 = selector.transform(X_cv_essay_tfidf)\n",
        "X_test_essay_2000 = selector.transform(X_test_essay_tfidf)\n",
        "print(x_train_essay_2000.shape)\n",
        "print(X_cv_essay_2000.shape)\n",
        "print(X_test_essay_2000.shape)"
      ],
      "execution_count": 0,
      "outputs": [
        {
          "output_type": "stream",
          "text": [
            "(37700, 2000)\n",
            "(11055, 2000)\n",
            "(16500, 2000)\n",
            "CPU times: user 17.8 s, sys: 44 ms, total: 17.9 s\n",
            "Wall time: 17.9 s\n"
          ],
          "name": "stdout"
        }
      ]
    },
    {
      "cell_type": "code",
      "metadata": {
        "id": "Ug6ACmJfrFqh",
        "colab_type": "code",
        "outputId": "6341998a-38a1-4096-fa2c-fcae3653ee34",
        "colab": {
          "base_uri": "https://localhost:8080/",
          "height": 104
        }
      },
      "source": [
        "# Project_title(TFIDF) and selcting the best 2000 Features using the  SelectKBest, chi2\n",
        "%%time\n",
        "from sklearn.feature_extraction.text import TfidfVectorizer\n",
        "from sklearn.feature_selection import SelectKBest, chi2\n",
        "vectorizer = TfidfVectorizer(min_df=10)\n",
        "vectorizer.fit(x_train['clean_titles'].values) # fit has to happen only on train data\n",
        "\n",
        "# we use the fitted CountVectorizer to convert the text to vector\n",
        "x_train_clean_titles_tfidf = vectorizer.transform(x_train['clean_titles'].values)\n",
        "X_cv_clean_titles_tfidf = vectorizer.transform(X_cv['clean_titles'].values)\n",
        "X_test_clean_titles_tfidf = vectorizer.transform(X_test['clean_titles'].values)\n",
        "\n",
        "\n",
        "#Selecting top 2000 best features from the generated tfidf features\n",
        "selector = SelectKBest(chi2, k = 1811 )\n",
        "selector.fit(x_train_clean_titles_tfidf,y_train)\n",
        "x_train_clean_titles_2000 = selector.transform(x_train_clean_titles_tfidf)\n",
        "X_cv_clean_titles_2000 = selector.transform(X_cv_clean_titles_tfidf)\n",
        "X_test_clean_titles_2000 = selector.transform(X_test_clean_titles_tfidf)\n",
        "print(x_train_clean_titles_2000.shape)\n",
        "print(X_cv_clean_titles_2000.shape)\n",
        "print(X_test_clean_titles_2000.shape)"
      ],
      "execution_count": 0,
      "outputs": [
        {
          "output_type": "stream",
          "text": [
            "(37700, 1811)\n",
            "(11055, 1811)\n",
            "(16500, 1811)\n",
            "CPU times: user 603 ms, sys: 2 ms, total: 605 ms\n",
            "Wall time: 607 ms\n"
          ],
          "name": "stdout"
        }
      ]
    },
    {
      "cell_type": "code",
      "metadata": {
        "id": "QERKcLCa6lbY",
        "colab_type": "code",
        "outputId": "9dd892a3-a091-472a-d09e-0ef314ba72f1",
        "colab": {
          "base_uri": "https://localhost:8080/",
          "height": 87
        }
      },
      "source": [
        "#now merging all the data matrix \n",
        "from scipy.sparse import hstack\n",
        "X5_tr = hstack((x_train_clean_categories_ohe,x_train_clean_subcat_ohe,x_train_teacher_ohe,x_train_state_ohe,\\\n",
        "                x_train_grade_ohe,x_train_price_std,x_train_projects_std,x_train_qty_std,x_train_essay_2000,x_train_clean_titles_2000)).tocsr()\n",
        "X5_cv = hstack((X_cv_clean_categories_ohe,X_cv_clean_subcat_ohe,X_cv_teacher_ohe,X_cv_state_ohe,\\\n",
        "                X_cv_grade_ohe,X_cv_price_std,X_cv_projects_std,X_cv_qty_std,X_cv_essay_2000,X_cv_clean_titles_2000)).tocsr()\n",
        "X5_te =hstack((X_test_clean_categories_ohe,X_test_clean_subcat_ohe,X_test_teacher_ohe,X_test_state_ohe,\\\n",
        "               X_test_grade_ohe,X_test_price_std,X_test_projects_std,X_test_qty_std,X_test_essay_2000,X_test_clean_titles_2000)).tocsr()\n",
        "\n",
        "\n",
        "print(\"The final Data Matrix for Set:3\" , \" All the shapes of the data represent the merged features as mentioned in the tittle\")\n",
        "print(\"shape of X_train is : \",            X5_tr.shape)\n",
        "print(\"shape of X_Cross validation is :\" , X5_cv.shape)\n",
        "print(\"shape of X_test is \",               X5_te.shape)"
      ],
      "execution_count": 0,
      "outputs": [
        {
          "output_type": "stream",
          "text": [
            "The final Data Matrix for Set:3  All the shapes of the data represent the merged features as mentioned in the tittle\n",
            "shape of X_train is :  (37700, 3914)\n",
            "shape of X_Cross validation is : (11055, 3914)\n",
            "shape of X_test is  (16500, 3914)\n"
          ],
          "name": "stdout"
        }
      ]
    },
    {
      "cell_type": "code",
      "metadata": {
        "id": "Bo54Uyy5Bz8d",
        "colab_type": "code",
        "colab": {}
      },
      "source": [
        "def batch_predict(clf, data):\n",
        "  y4_data_pred = []\n",
        "  tr_loop = data.shape[0] - data.shape[0]%1000\n",
        "  # consider you X_tr shape is 49041, then your tr_loop will be 49041 - 49041%1000 = 49000\n",
        "  # in this for loop we will iterate unti the last 1000 multiplier\n",
        "  for i in range(0, tr_loop, 1000):\n",
        "      y4_data_pred.extend(clf.predict_proba(data[i:i+1000])[:,1])\n",
        "  # we will be predicting for the last data points\n",
        "  if data.shape[0]%1000 !=0:\n",
        "      y4_data_pred.extend(clf.predict_proba(data[tr_loop:])[:,1])\n",
        "\n",
        "  return y4_data_pred"
      ],
      "execution_count": 0,
      "outputs": []
    },
    {
      "cell_type": "code",
      "metadata": {
        "id": "wytQfd40CQoL",
        "colab_type": "code",
        "outputId": "2d510b2c-ced0-4244-8c76-73c6b04bd5b8",
        "colab": {
          "base_uri": "https://localhost:8080/",
          "height": 333
        }
      },
      "source": [
        "import matplotlib.pyplot as plt\n",
        "from sklearn.neighbors import KNeighborsClassifier\n",
        "from sklearn.metrics import roc_auc_score\n",
        "\n",
        "train_auc4 = []\n",
        "cv_auc4 = []\n",
        "K = [3, 15, 25, 51, 101]\n",
        "for i in tqdm(K):\n",
        "    neigh = KNeighborsClassifier(n_neighbors=i, n_jobs=-1)\n",
        "    neigh.fit(X5_tr, y_train)\n",
        "\n",
        "    y4_train_pred = batch_predict(neigh, X5_tr)    \n",
        "    y4_cv_pred = batch_predict(neigh, X5_cv)\n",
        "\n",
        "    # roc_auc_score(y_tr, y_score) the 2nd parameter should be probability estimates of the positive class\n",
        "    # not the predicted outputs        \n",
        "    train_auc4.append(roc_auc_score(y_train,y4_train_pred))\n",
        "    cv_auc4.append(roc_auc_score(Y_cv, y4_cv_pred))\n",
        "\n",
        "plt.plot(K, train_auc4, label='Train AUC')\n",
        "plt.plot(K, cv_auc4, label='CV AUC')\n",
        "\n",
        "plt.scatter(K, train_auc4, label='Train AUC points')\n",
        "plt.scatter(K, cv_auc4, label='CV AUC points')\n",
        "\n",
        "plt.legend()\n",
        "plt.xlabel(\"K: hyperparameter\")\n",
        "plt.ylabel(\"AUC\")\n",
        "plt.title(\"ERROR PLOTS\")\n",
        "plt.grid(color='black', linestyle='-', linewidth=1)\n",
        "plt.show()"
      ],
      "execution_count": 0,
      "outputs": [
        {
          "output_type": "stream",
          "text": [
            "100%|██████████| 5/5 [10:03<00:00, 120.33s/it]\n"
          ],
          "name": "stderr"
        },
        {
          "output_type": "display_data",
          "data": {
            "image/png": "[encoded data removed]",
            "text/plain": [
              "<Figure size 432x288 with 1 Axes>"
            ]
          },
          "metadata": {
            "tags": []
          }
        }
      ]
    },
    {
      "cell_type": "markdown",
      "metadata": {
        "id": "Lc5jD9thrSuy",
        "colab_type": "text"
      },
      "source": [
        "\n",
        "1.   The error plot above representes the Train AUC and CV AUC Curve,      wherein we choose K(hyperparameter value) such that,it will be the  maximum AUC on cv data and distance between the train-data line(\"Blue\") and CV-line(\"orange\") results be to minimum.\n",
        "2.   The best value of k is found to be 100\n",
        "3.   Here I have used the \"AUCROC\" curve for choosing the best hypermeter as the data is imbalanced(though i have balanced it) , the \"AUCROC\" curve considers both the class labels equally . \n",
        "4.   The other hyperparameter tuning techiniques can also be choosen as \"CV\" and \"K-fold CV\""
      ]
    },
    {
      "cell_type": "code",
      "metadata": {
        "id": "gtyKHuQoCVCt",
        "colab_type": "code",
        "colab": {}
      },
      "source": [
        "best_k2= 101"
      ],
      "execution_count": 0,
      "outputs": []
    },
    {
      "cell_type": "code",
      "metadata": {
        "id": "VJ5mEWBnCkwL",
        "colab_type": "code",
        "outputId": "3f74f719-9018-49a7-e7b4-c0c34cc1650a",
        "colab": {
          "base_uri": "https://localhost:8080/",
          "height": 315
        }
      },
      "source": [
        "# https://scikit-learn.org/stable/modules/generated/sklearn.metrics.roc_curve.html#sklearn.metrics.roc_curve\n",
        "from sklearn.metrics import roc_curve, auc\n",
        "\n",
        "\n",
        "neigh = KNeighborsClassifier(n_neighbors=best_k2, n_jobs=-1)\n",
        "neigh.fit(X5_tr, y_train)\n",
        "# roc_auc_score(y_true, y_score) the 2nd parameter should be probability estimates of the positive class\n",
        "# not the predicted outputs\n",
        "\n",
        "y5_train_pred = batch_predict(neigh, X5_tr)    \n",
        "y5_test_pred = batch_predict(neigh, X5_te)\n",
        "\n",
        "train5_fpr, train5_tpr, tr5_thresholds = roc_curve(y_train, y5_train_pred)\n",
        "test5_fpr, test5_tpr, te5_thresholds = roc_curve(Y_test, y5_test_pred)\n",
        "\n",
        "plt.plot(train5_fpr, train5_tpr, label=\"Tain AUC =\"+str(auc(train5_fpr, train5_tpr)))\n",
        "plt.plot(test5_fpr, test5_tpr, label=\"Test AUC =\"+str(auc(test5_fpr, test5_tpr)))\n",
        "plt.legend()\n",
        "plt.xlabel(\"Fasle Postive Rate\")\n",
        "plt.ylabel(\"True Pstive RAte\")\n",
        "plt.title(\"ROC_AUC Curve\")\n",
        "plt.grid(color='black', linestyle='-', linewidth=1)\n",
        "plt.show()"
      ],
      "execution_count": 0,
      "outputs": [
        {
          "output_type": "display_data",
          "data": {
            "image/png": "[encoded data removed]",
            "text/plain": [
              "<Figure size 432x288 with 1 Axes>"
            ]
          },
          "metadata": {
            "tags": []
          }
        }
      ]
    },
    {
      "cell_type": "markdown",
      "metadata": {
        "id": "awEYbK5HrXDl",
        "colab_type": "text"
      },
      "source": [
        "\n",
        "**Conclusion for SET : 5**\n",
        "\n",
        "1.   The above Represents the TRP and FPR rates on the either axis and this curve is know as the AUCROC curve , it is a metrix to evaluate the performance of the model. \n",
        "2.   As teh grap represents here the  Train Auc = 0.67 , so from this we can conclude that the model is predecting the values with 67 % probabilty.\n"
      ]
    },
    {
      "cell_type": "code",
      "metadata": {
        "id": "2apMZqG5Cp-M",
        "colab_type": "code",
        "colab": {}
      },
      "source": [
        "#this is the custom function for predecting the best thershold and sorting the values according the threshould \n",
        "def find_best_threshold(threshould, fpr, tpr):\n",
        "    t = threshould[np.argmax(tpr*(1-fpr))]\n",
        "    # (tpr*(1-fpr)) will be maximum if your fpr is very low and tpr is very high\n",
        "    print(\"the maximum value of tpr*(1-fpr)\", max(tpr*(1-fpr)), \"for threshold\", np.round(t,3))\n",
        "    return t"
      ],
      "execution_count": 0,
      "outputs": []
    },
    {
      "cell_type": "code",
      "metadata": {
        "id": "_P5__9MsC1mX",
        "colab_type": "code",
        "colab": {}
      },
      "source": [
        "def predict_with_best_t(proba, threshould):\n",
        "    predictions = []\n",
        "    for i in proba:\n",
        "        if i>=threshould:\n",
        "            predictions.append(1)\n",
        "        else:\n",
        "            predictions.append(0)\n",
        "    return predictions"
      ],
      "execution_count": 0,
      "outputs": []
    },
    {
      "cell_type": "code",
      "metadata": {
        "id": "Zd_c9Yh4C2qA",
        "colab_type": "code",
        "outputId": "2fc1a94b-5f91-449a-c5a0-7bd7ffb1516c",
        "colab": {
          "base_uri": "https://localhost:8080/",
          "height": 349
        }
      },
      "source": [
        "print(\"=\"*100)\n",
        "from sklearn.metrics import confusion_matrix\n",
        "best_t = find_best_threshold(tr5_thresholds, train5_fpr, train5_tpr)\n",
        "Confusion_metrix_Train_data = pd.DataFrame(confusion_matrix(y_train, predict_with_best_t(y5_train_pred, best_t)))\n",
        "Confusion_metrix_Test_data = pd.DataFrame(confusion_matrix(Y_test, predict_with_best_t(y5_test_pred, best_t)))\n",
        "import seaborn as sns\n",
        "sns.set(font_scale=1.4)#for label size\n",
        "print(\"The Confusion metrix of train data\")\n",
        "sns.heatmap(Confusion_metrix_Train_data,annot=True, annot_kws={\"size\": 20},fmt =\"g\")"
      ],
      "execution_count": 0,
      "outputs": [
        {
          "output_type": "stream",
          "text": [
            "====================================================================================================\n",
            "the maximum value of tpr*(1-fpr) 0.38854513857129785 for threshold 0.475\n",
            "The Confusion metrix of train data\n"
          ],
          "name": "stdout"
        },
        {
          "output_type": "execute_result",
          "data": {
            "text/plain": [
              "<matplotlib.axes._subplots.AxesSubplot at 0x7fd41dba3cc0>"
            ]
          },
          "metadata": {
            "tags": []
          },
          "execution_count": 114
        },
        {
          "output_type": "display_data",
          "data": {
            "image/png": "[encoded data removed]",
            "text/plain": [
              "<Figure size 432x288 with 2 Axes>"
            ]
          },
          "metadata": {
            "tags": []
          }
        }
      ]
    },
    {
      "cell_type": "code",
      "metadata": {
        "id": "Htnteme9PuCE",
        "colab_type": "code",
        "outputId": "dd2974a7-ba51-4a57-80a8-85414f102a8a",
        "colab": {
          "base_uri": "https://localhost:8080/",
          "height": 314
        }
      },
      "source": [
        "print(\"The Confusion metrix of test data \")\n",
        "sns.heatmap(Confusion_metrix_Test_data,annot=True, annot_kws={\"size\": 20},fmt =\"g\")"
      ],
      "execution_count": 0,
      "outputs": [
        {
          "output_type": "stream",
          "text": [
            "The Confusion metrix of test data \n"
          ],
          "name": "stdout"
        },
        {
          "output_type": "execute_result",
          "data": {
            "text/plain": [
              "<matplotlib.axes._subplots.AxesSubplot at 0x7fd41c69ff28>"
            ]
          },
          "metadata": {
            "tags": []
          },
          "execution_count": 115
        },
        {
          "output_type": "display_data",
          "data": {
            "image/png": "[encoded data removed]",
            "text/plain": [
              "<Figure size 432x288 with 2 Axes>"
            ]
          },
          "metadata": {
            "tags": []
          }
        }
      ]
    },
    {
      "cell_type": "markdown",
      "metadata": {
        "id": "VAvbvAz2rbxE",
        "colab_type": "text"
      },
      "source": [
        "1.   The Ouput Stated above represents the maximun value of TRP (i.e tpr*(1-fpr) \"0.3973\" corrosponding to whcih the maximum thershold is 0.49 .\n",
        "2.   The Second output represnts the Confusion metrix Based on the thershold of 0.49 ,  which states that the values below the thershold of 0.49 are classified as 0 and the values above 0.49 are classified as 1."
      ]
    },
    {
      "cell_type": "code",
      "metadata": {
        "id": "juBXZuceH-aS",
        "colab_type": "code",
        "outputId": "6c23692b-2fb6-421b-f3d7-917d2c8e697f",
        "colab": {
          "base_uri": "https://localhost:8080/",
          "height": 173
        }
      },
      "source": [
        "#http://zetcode.com/python/prettytable/\n",
        "from prettytable import PrettyTable\n",
        "    \n",
        "x = PrettyTable()\n",
        "x.field_names = [\"Vectorizer\", \"Hyperparameter\", \"AUC\"]\n",
        "x.add_row([\"SET 1 : project_title(BOW) + preprocessed_essay (BOW)\", 101 ,  0.55])\n",
        "x.add_row([\"SET 2 : project_title(TFIDF)+ preprocessed_essay (TFIDF)\", 101 , 0.59 ])\n",
        "x.add_row([\"SET 3 :  project_title(AVG W2V)+ preprocessed_essay (AVG W2V)\", 101, 0.59])\n",
        "x.add_row([\"SET 4 : project_title(TFIDF W2V)+ preprocessed_essay (TFIDF W2V)\", 101, 0.60])\n",
        "x.add_row([\"SET 5 : project_title(TFIDF)+ preprocessed_essay (TFIDF) of 2000 Words\", 100, 0.59])\n",
        "\n",
        "print(x)"
      ],
      "execution_count": 0,
      "outputs": [
        {
          "output_type": "stream",
          "text": [
            "+------------------------------------------------------------------------+----------------+------+\n",
            "|                               Vectorizer                               | Hyperparameter | AUC  |\n",
            "+------------------------------------------------------------------------+----------------+------+\n",
            "|         SET 1 : project_title(BOW) + preprocessed_essay (BOW)          |      101       | 0.55 |\n",
            "|        SET 2 : project_title(TFIDF)+ preprocessed_essay (TFIDF)        |      101       | 0.59 |\n",
            "|     SET 3 :  project_title(AVG W2V)+ preprocessed_essay (AVG W2V)      |      101       | 0.59 |\n",
            "|    SET 4 : project_title(TFIDF W2V)+ preprocessed_essay (TFIDF W2V)    |      101       | 0.6  |\n",
            "| SET 5 : project_title(TFIDF)+ preprocessed_essay (TFIDF) of 2000 Words |      100       | 0.59 |\n",
            "+------------------------------------------------------------------------+----------------+------+\n"
          ],
          "name": "stdout"
        }
      ]
    }
  ]
}